{
 "cells": [
  {
   "cell_type": "markdown",
   "id": "7ee607bd-69ec-455c-9861-f6b79a5df882",
   "metadata": {},
   "source": [
    "This notebook aims to provide a quantification of the Actions (and their releases) from the dataset, as well as some insights about the release frequency of Actions and the evolution of this frequency through time. It also provides insight on how frequently workflows are updated in repositories using GHA."
   ]
  },
  {
   "cell_type": "code",
   "execution_count": 1,
   "id": "12605561-504a-4f1b-967d-9ceab781abaf",
   "metadata": {},
   "outputs": [],
   "source": [
    "import pandas as pd\n",
    "import numpy as np\n",
    "import matplotlib\n",
    "import matplotlib.pyplot\n",
    "import seaborn\n",
    "import lifelines"
   ]
  },
  {
   "cell_type": "code",
   "execution_count": 2,
   "id": "5a8fab65-17b6-4569-83b8-f75c526b8a84",
   "metadata": {},
   "outputs": [],
   "source": [
    "FIG_SIZE = (6, 3)\n",
    "FIG_SIZE_WIDE = (9, 3)\n",
    "\n",
    "PALETTE = seaborn.color_palette()\n",
    "DATE_RANGE = pd.to_datetime('2019-11-01'), pd.to_datetime('2022-08-31')\n",
    "REL_CENSOR = pd.to_datetime('2018-10-16')  # Limited public beta of GHA\n",
    "\n",
    "matplotlib.rcParams['figure.figsize'] = FIG_SIZE\n",
    "# matplotlib.rcParams['legend.framealpha'] = 1\n",
    "matplotlib.rcParams['text.latex.preamble'] = r'\\usepackage{amsmath}'\n",
    "\n",
    "SEED = 12345\n",
    "SAVEFIG = False\n",
    "\n",
    "def _savefig(fig, name):\n",
    "    import os\n",
    "    fig.savefig(\n",
    "        os.path.join('..', 'figures', '{}.pdf'.format(name)),\n",
    "        bbox_inches='tight'\n",
    "    )\n",
    "    \n",
    "savefig = _savefig if SAVEFIG else lambda x, y: None"
   ]
  },
  {
   "cell_type": "markdown",
   "id": "4383f98e-58d9-40a0-bc61-840342079ec9",
   "metadata": {},
   "source": [
    "### Load data"
   ]
  },
  {
   "cell_type": "code",
   "execution_count": 3,
   "id": "e03794ad-f983-4187-a87c-201f6945e9ba",
   "metadata": {},
   "outputs": [],
   "source": [
    "# Releases of Actions\n",
    "df_releases = (\n",
    "    pd.read_csv('../data/releases.csv.gz')\n",
    "    .assign(date=lambda d: pd.to_datetime(d.date, errors='coerce').dt.tz_convert(None))\n",
    "    # Convert to lower case since a repository is not case-sensitive.\n",
    "    .assign(owner=lambda d: d.owner.str.lower())\n",
    "    .assign(repo=lambda d: d.repo.str.lower())\n",
    "    .rename(columns={'release': 'version'})\n",
    "    [lambda d: d.date.between(REL_CENSOR, DATE_RANGE[1], inclusive='both')]\n",
    "    [['owner', 'repo', 'version', 'date']]\n",
    ")"
   ]
  },
  {
   "cell_type": "code",
   "execution_count": 4,
   "id": "a423c3c7-82c2-4b8a-80d0-b2bd464f7d28",
   "metadata": {},
   "outputs": [],
   "source": [
    "# Updates of workflows\n",
    "df_workflows = (\n",
    "    pd.read_csv('../data/workflow_files.csv.gz')\n",
    "    .assign(date=lambda d: pd.to_datetime(d.date))\n",
    "    [['repository', 'date', 'filename', 'workflow']]\n",
    ")"
   ]
  },
  {
   "cell_type": "markdown",
   "id": "b4ee49e0-b28e-4d83-ade6-18db427bac30",
   "metadata": {},
   "source": [
    "### Data overview"
   ]
  },
  {
   "cell_type": "markdown",
   "id": "c5d2f5a2-7e3f-4286-8965-cee6ab122610",
   "metadata": {},
   "source": [
    "#### Evolution of the number of Actions and releases"
   ]
  },
  {
   "cell_type": "code",
   "execution_count": 5,
   "id": "6a60f372-0f55-4252-b9b5-ecf4af99d327",
   "metadata": {},
   "outputs": [
    {
     "data": {
      "image/png": "[encoded data removed]",
      "text/plain": [
       "<Figure size 432x216 with 1 Axes>"
      ]
     },
     "metadata": {
      "needs_background": "light"
     },
     "output_type": "display_data"
    }
   ],
   "source": [
    "fig, ax = matplotlib.pyplot.subplots()\n",
    "# fig.set_size_inches(FIG_SIZE)\n",
    "\n",
    "temp = (\n",
    "    df_releases\n",
    "    .sort_values('date', ascending=True)\n",
    "    .drop_duplicates(['owner', 'repo'], keep='first')\n",
    "    .assign(actions=lambda d: range(1, len(d) + 1))\n",
    "    .merge(\n",
    "        df_releases.sort_values('date', ascending=True).assign(releases=lambda d: range(1, len(d) + 1)),\n",
    "        how='right',\n",
    "        on=['owner', 'repo', 'date'],\n",
    "    )\n",
    "    [['date', 'owner', 'repo', 'actions', 'releases']]\n",
    "    .fillna(method='ffill')\n",
    "    .groupby(pd.Grouper(key='date', freq='M'))\n",
    "    .max()\n",
    ")\n",
    "\n",
    "(\n",
    "    temp\n",
    "    [['actions', 'releases']]\n",
    "    .assign(actions=lambda d: d.actions * 10)\n",
    "    .rename(columns={'actions': 'actions x10'})\n",
    "    .plot(ax=ax, color=PALETTE)\n",
    ")\n",
    "\n",
    "ax.set(\n",
    "    xlabel=None,\n",
    "    xlim=DATE_RANGE,\n",
    "    ylabel=None\n",
    ")\n",
    "\n",
    "savefig(fig, 'rel_evolution')"
   ]
  },
  {
   "cell_type": "code",
   "execution_count": 6,
   "id": "17725744-5efc-4a9f-9e88-22dda5d4e37d",
   "metadata": {},
   "outputs": [
    {
     "ename": "AttributeError",
     "evalue": "'DataFrame' object has no attribute 'date'",
     "output_type": "error",
     "traceback": [
      "\u001b[0;31m---------------------------------------------------------------------------\u001b[0m",
      "\u001b[0;31mAttributeError\u001b[0m                            Traceback (most recent call last)",
      "Input \u001b[0;32mIn [6]\u001b[0m, in \u001b[0;36m<module>\u001b[0;34m\u001b[0m\n\u001b[0;32m----> 1\u001b[0m display(\u001b[43mtemp\u001b[49m\u001b[43m[\u001b[49m\u001b[38;5;28;43;01mlambda\u001b[39;49;00m\u001b[43m \u001b[49m\u001b[43md\u001b[49m\u001b[43m:\u001b[49m\u001b[43m \u001b[49m\u001b[43md\u001b[49m\u001b[38;5;241;43m.\u001b[39;49m\u001b[43mdate\u001b[49m\u001b[43m \u001b[49m\u001b[38;5;241;43m>\u001b[39;49m\u001b[38;5;241;43m=\u001b[39;49m\u001b[43m \u001b[49m\u001b[43mDATE_RANGE\u001b[49m\u001b[43m[\u001b[49m\u001b[38;5;241;43m0\u001b[39;49m\u001b[43m]\u001b[49m\u001b[43m]\u001b[49m\u001b[38;5;241m.\u001b[39miloc[\u001b[38;5;241m0\u001b[39m])\n\u001b[1;32m      2\u001b[0m display(temp\u001b[38;5;241m.\u001b[39miloc[\u001b[38;5;241m-\u001b[39m\u001b[38;5;241m1\u001b[39m])\n",
      "File \u001b[0;32m~/.local/share/virtualenvs/ghalag/lib64/python3.9/site-packages/pandas/core/frame.py:3467\u001b[0m, in \u001b[0;36mDataFrame.__getitem__\u001b[0;34m(self, key)\u001b[0m\n\u001b[1;32m   3465\u001b[0m check_deprecated_indexers(key)\n\u001b[1;32m   3466\u001b[0m key \u001b[38;5;241m=\u001b[39m lib\u001b[38;5;241m.\u001b[39mitem_from_zerodim(key)\n\u001b[0;32m-> 3467\u001b[0m key \u001b[38;5;241m=\u001b[39m \u001b[43mcom\u001b[49m\u001b[38;5;241;43m.\u001b[39;49m\u001b[43mapply_if_callable\u001b[49m\u001b[43m(\u001b[49m\u001b[43mkey\u001b[49m\u001b[43m,\u001b[49m\u001b[43m \u001b[49m\u001b[38;5;28;43mself\u001b[39;49m\u001b[43m)\u001b[49m\n\u001b[1;32m   3469\u001b[0m \u001b[38;5;28;01mif\u001b[39;00m is_hashable(key) \u001b[38;5;129;01mand\u001b[39;00m \u001b[38;5;129;01mnot\u001b[39;00m is_iterator(key):\n\u001b[1;32m   3470\u001b[0m     \u001b[38;5;66;03m# is_iterator to exclude generator e.g. test_getitem_listlike\u001b[39;00m\n\u001b[1;32m   3471\u001b[0m     \u001b[38;5;66;03m# shortcut if the key is in columns\u001b[39;00m\n\u001b[1;32m   3472\u001b[0m     \u001b[38;5;28;01mif\u001b[39;00m \u001b[38;5;28mself\u001b[39m\u001b[38;5;241m.\u001b[39mcolumns\u001b[38;5;241m.\u001b[39mis_unique \u001b[38;5;129;01mand\u001b[39;00m key \u001b[38;5;129;01min\u001b[39;00m \u001b[38;5;28mself\u001b[39m\u001b[38;5;241m.\u001b[39mcolumns:\n",
      "File \u001b[0;32m~/.local/share/virtualenvs/ghalag/lib64/python3.9/site-packages/pandas/core/common.py:358\u001b[0m, in \u001b[0;36mapply_if_callable\u001b[0;34m(maybe_callable, obj, **kwargs)\u001b[0m\n\u001b[1;32m    347\u001b[0m \u001b[38;5;124;03m\"\"\"\u001b[39;00m\n\u001b[1;32m    348\u001b[0m \u001b[38;5;124;03mEvaluate possibly callable input using obj and kwargs if it is callable,\u001b[39;00m\n\u001b[1;32m    349\u001b[0m \u001b[38;5;124;03motherwise return as it is.\u001b[39;00m\n\u001b[0;32m   (...)\u001b[0m\n\u001b[1;32m    355\u001b[0m \u001b[38;5;124;03m**kwargs\u001b[39;00m\n\u001b[1;32m    356\u001b[0m \u001b[38;5;124;03m\"\"\"\u001b[39;00m\n\u001b[1;32m    357\u001b[0m \u001b[38;5;28;01mif\u001b[39;00m callable(maybe_callable):\n\u001b[0;32m--> 358\u001b[0m     \u001b[38;5;28;01mreturn\u001b[39;00m \u001b[43mmaybe_callable\u001b[49m\u001b[43m(\u001b[49m\u001b[43mobj\u001b[49m\u001b[43m,\u001b[49m\u001b[43m \u001b[49m\u001b[38;5;241;43m*\u001b[39;49m\u001b[38;5;241;43m*\u001b[39;49m\u001b[43mkwargs\u001b[49m\u001b[43m)\u001b[49m\n\u001b[1;32m    360\u001b[0m \u001b[38;5;28;01mreturn\u001b[39;00m maybe_callable\n",
      "Input \u001b[0;32mIn [6]\u001b[0m, in \u001b[0;36m<lambda>\u001b[0;34m(d)\u001b[0m\n\u001b[0;32m----> 1\u001b[0m display(temp[\u001b[38;5;28;01mlambda\u001b[39;00m d: \u001b[43md\u001b[49m\u001b[38;5;241;43m.\u001b[39;49m\u001b[43mdate\u001b[49m \u001b[38;5;241m>\u001b[39m\u001b[38;5;241m=\u001b[39m DATE_RANGE[\u001b[38;5;241m0\u001b[39m]]\u001b[38;5;241m.\u001b[39miloc[\u001b[38;5;241m0\u001b[39m])\n\u001b[1;32m      2\u001b[0m display(temp\u001b[38;5;241m.\u001b[39miloc[\u001b[38;5;241m-\u001b[39m\u001b[38;5;241m1\u001b[39m])\n",
      "File \u001b[0;32m~/.local/share/virtualenvs/ghalag/lib64/python3.9/site-packages/pandas/core/generic.py:5583\u001b[0m, in \u001b[0;36mNDFrame.__getattr__\u001b[0;34m(self, name)\u001b[0m\n\u001b[1;32m   5576\u001b[0m \u001b[38;5;28;01mif\u001b[39;00m (\n\u001b[1;32m   5577\u001b[0m     name \u001b[38;5;129;01mnot\u001b[39;00m \u001b[38;5;129;01min\u001b[39;00m \u001b[38;5;28mself\u001b[39m\u001b[38;5;241m.\u001b[39m_internal_names_set\n\u001b[1;32m   5578\u001b[0m     \u001b[38;5;129;01mand\u001b[39;00m name \u001b[38;5;129;01mnot\u001b[39;00m \u001b[38;5;129;01min\u001b[39;00m \u001b[38;5;28mself\u001b[39m\u001b[38;5;241m.\u001b[39m_metadata\n\u001b[1;32m   5579\u001b[0m     \u001b[38;5;129;01mand\u001b[39;00m name \u001b[38;5;129;01mnot\u001b[39;00m \u001b[38;5;129;01min\u001b[39;00m \u001b[38;5;28mself\u001b[39m\u001b[38;5;241m.\u001b[39m_accessors\n\u001b[1;32m   5580\u001b[0m     \u001b[38;5;129;01mand\u001b[39;00m \u001b[38;5;28mself\u001b[39m\u001b[38;5;241m.\u001b[39m_info_axis\u001b[38;5;241m.\u001b[39m_can_hold_identifiers_and_holds_name(name)\n\u001b[1;32m   5581\u001b[0m ):\n\u001b[1;32m   5582\u001b[0m     \u001b[38;5;28;01mreturn\u001b[39;00m \u001b[38;5;28mself\u001b[39m[name]\n\u001b[0;32m-> 5583\u001b[0m \u001b[38;5;28;01mreturn\u001b[39;00m \u001b[38;5;28;43mobject\u001b[39;49m\u001b[38;5;241;43m.\u001b[39;49m\u001b[38;5;21;43m__getattribute__\u001b[39;49m\u001b[43m(\u001b[49m\u001b[38;5;28;43mself\u001b[39;49m\u001b[43m,\u001b[49m\u001b[43m \u001b[49m\u001b[43mname\u001b[49m\u001b[43m)\u001b[49m\n",
      "\u001b[0;31mAttributeError\u001b[0m: 'DataFrame' object has no attribute 'date'"
     ]
    }
   ],
   "source": [
    "display(temp[lambda d: d.date >= DATE_RANGE[0]].iloc[0])\n",
    "display(temp.iloc[-1])"
   ]
  },
  {
   "cell_type": "markdown",
   "id": "0a0e9853-51c7-40de-8e98-50d28303c856",
   "metadata": {},
   "source": [
    "#### Monthly number of releases"
   ]
  },
  {
   "cell_type": "code",
   "execution_count": null,
   "id": "fc5de91b-3133-46a9-83d0-9196735078a4",
   "metadata": {},
   "outputs": [],
   "source": [
    "fig, ax = matplotlib.pyplot.subplots()\n",
    "\n",
    "temp = (\n",
    "    df_releases\n",
    "    .groupby(pd.Grouper(key='date', freq='M'))\n",
    "    .agg(releases=('version', 'count'))\n",
    ")\n",
    "\n",
    "temp['releases'].plot(ax=ax, color=PALETTE)\n",
    "\n",
    "ax.set(\n",
    "    xlabel=None,\n",
    "    xlim=DATE_RANGE,\n",
    "    ylabel='number of releases',\n",
    ")\n",
    "\n",
    "savefig(fig, 'rel_monthly_number')"
   ]
  },
  {
   "cell_type": "code",
   "execution_count": null,
   "id": "78a574fb-9ae2-4986-8b4f-4c04df34449b",
   "metadata": {},
   "outputs": [],
   "source": [
    "temp.describe()"
   ]
  },
  {
   "cell_type": "markdown",
   "id": "f4134beb-c512-42ca-85cc-2677cb4ff676",
   "metadata": {},
   "source": [
    "#### Monthly proportion of Actions being updated"
   ]
  },
  {
   "cell_type": "code",
   "execution_count": null,
   "id": "4f273ec4-2424-45af-88d8-c2c0684b1e47",
   "metadata": {},
   "outputs": [],
   "source": [
    "fig, ax = matplotlib.pyplot.subplots()\n",
    "\n",
    "temp = (\n",
    "    df_releases\n",
    "    .sort_values('date', ascending=True)\n",
    "    .drop_duplicates(['owner', 'repo'], keep='first')\n",
    "    .assign(actions=lambda d: range(1, len(d) + 1))\n",
    "    .groupby(pd.Grouper(key='date', freq='M'))\n",
    "    .agg({'actions': 'max'})\n",
    "    .merge(\n",
    "        df_releases\n",
    "        .assign(repository=lambda d: d.owner + '/' + d.repo)\n",
    "        .groupby(pd.Grouper(key='date', freq='M'))\n",
    "        .agg(updated=('repository', 'nunique')),\n",
    "        how='outer',\n",
    "        left_index=True,\n",
    "        right_index=True,\n",
    "    )\n",
    "    .assign(proportion=lambda d: d['updated'] / d['actions'])\n",
    ")\n",
    "\n",
    "temp['proportion'].plot(ax=ax, color=PALETTE)\n",
    "\n",
    "ax.set(\n",
    "    xlabel=None,\n",
    "    xlim=DATE_RANGE,\n",
    "    ylim=(0, 0.5), \n",
    "    ylabel='proportion of updated Actions'\n",
    ")\n",
    "\n",
    "savefig(fig, 'rel_prop_updated')"
   ]
  },
  {
   "cell_type": "code",
   "execution_count": null,
   "id": "d7af5ca0-e32d-4e9f-b4ac-a1f572878955",
   "metadata": {},
   "outputs": [],
   "source": [
    "temp.iloc[-1]"
   ]
  },
  {
   "cell_type": "markdown",
   "id": "ece429ae-947e-4144-83e6-e26c1be0a419",
   "metadata": {},
   "source": [
    "#### Evolution of the number of repositories using GHA"
   ]
  },
  {
   "cell_type": "code",
   "execution_count": null,
   "id": "48a4a3e0-64b5-46e5-bbfd-f3b515d6a2b4",
   "metadata": {},
   "outputs": [],
   "source": [
    "fig, ax = matplotlib.pyplot.subplots()\n",
    "\n",
    "temp = (\n",
    "    df_workflows\n",
    "    .sort_values('date', ascending=True)\n",
    "    .drop_duplicates('repository', keep='first')\n",
    "    .assign(repositories=lambda d: range(1, len(d) + 1))\n",
    "    .groupby(pd.Grouper(key='date', freq='M'))\n",
    "    .agg({'repositories': 'max'})\n",
    ")\n",
    "\n",
    "temp['repositories'].plot(ax=ax, color=PALETTE)\n",
    "\n",
    "ax.set(\n",
    "    xlabel=None,\n",
    "    xlim=DATE_RANGE,\n",
    "    ylabel='number of repositories',\n",
    ")\n",
    "\n",
    "savefig(fig, 'workflow_repository_number')"
   ]
  },
  {
   "cell_type": "code",
   "execution_count": null,
   "id": "6c592044-d11e-4a3f-88c7-02fa79d9bb6e",
   "metadata": {},
   "outputs": [],
   "source": [
    "temp.describe().T"
   ]
  },
  {
   "cell_type": "markdown",
   "id": "541ab618-c0f4-489d-884d-b3ecbea5573a",
   "metadata": {},
   "source": [
    "#### Evolution of the number of workflow updates"
   ]
  },
  {
   "cell_type": "markdown",
   "id": "23185679-39ff-47d1-8ab4-7c2d75f9b1b2",
   "metadata": {},
   "source": [
    "A workflow update is detected by comparing the hash value of a workflow file with the hash value for the same workflow file in the previous snapshot. Newly introduced workflows are also considered as updates. "
   ]
  },
  {
   "cell_type": "code",
   "execution_count": null,
   "id": "d75a7779-c9f4-4f54-8f16-a6ca65c5b4ab",
   "metadata": {},
   "outputs": [],
   "source": [
    "# Let's store this dataframe since it will be used in many of the following cells.\n",
    "data = (\n",
    "    df_workflows\n",
    "    .sort_values(['repository', 'filename', 'date'])\n",
    "    .assign(workflow_previous=lambda d: d.workflow.shift(1))\n",
    "    # Since we applied shift on all repositories/date, let's remove the extra ones. \n",
    "    .assign(workflow_previous=lambda d: d.workflow_previous.where(d[['repository', 'filename']].duplicated(), np.nan))\n",
    "    .assign(updated=lambda d: d.workflow != d.workflow_previous)\n",
    ")"
   ]
  },
  {
   "cell_type": "code",
   "execution_count": null,
   "id": "3835e240-f489-4e31-a194-ccf475c95276",
   "metadata": {},
   "outputs": [],
   "source": [
    "fig, ax = matplotlib.pyplot.subplots()\n",
    "\n",
    "temp = (\n",
    "    data\n",
    "    .groupby(pd.Grouper(key='date', freq='M'))\n",
    "    .agg(updates=('updated', 'sum'))\n",
    ")\n",
    "\n",
    "temp['updates'].plot(ax=ax, color=PALETTE)\n",
    "\n",
    "ax.set(\n",
    "    xlabel=None,\n",
    "    xlim=DATE_RANGE,\n",
    "    ylabel='number of workflow updates',\n",
    ")\n",
    "\n",
    "savefig(fig, 'workflow_monthly_updates')"
   ]
  },
  {
   "cell_type": "markdown",
   "id": "28d64a2d-92e9-4830-8c21-78282b66fb0b",
   "metadata": {},
   "source": [
    "#### Monthly proportion of repositories updating a workflow file"
   ]
  },
  {
   "cell_type": "code",
   "execution_count": null,
   "id": "ccc5f087-f665-4df4-ab01-4718eb545169",
   "metadata": {},
   "outputs": [],
   "source": [
    "fig, ax = matplotlib.pyplot.subplots()\n",
    "\n",
    "temp = (\n",
    "    data\n",
    "    .sort_values(['date', 'repository'])\n",
    "    .assign(repositories=lambda d: (~d['repository'].duplicated()).cumsum())\n",
    "    [lambda d: d.updated]\n",
    "    .groupby(pd.Grouper(key='date', freq='M'))\n",
    "    .agg(\n",
    "        updated=('repository', 'nunique'),\n",
    "        repositories=('repositories', 'max'),\n",
    "    )\n",
    "    .assign(proportion=lambda d: d.updated / d.repositories)\n",
    ")\n",
    "\n",
    "temp['proportion'].plot(ax=ax, color=PALETTE)\n",
    "\n",
    "ax.set(\n",
    "    xlabel=None,\n",
    "    xlim=DATE_RANGE,\n",
    "    ylabel='proportion of repositories',\n",
    "    ylim=(0, 1)\n",
    ")\n",
    "\n",
    "savefig(fig, 'workflow_prop_repo_updated')"
   ]
  },
  {
   "cell_type": "code",
   "execution_count": null,
   "id": "522b4e45-fcaa-4296-b22d-7f23c49f5ae0",
   "metadata": {},
   "outputs": [],
   "source": []
  },
  {
   "cell_type": "markdown",
   "id": "15e659f4-95fb-4fdf-95aa-ae3d91509636",
   "metadata": {},
   "source": [
    "### Release frequency"
   ]
  },
  {
   "cell_type": "markdown",
   "id": "b4b41352-0c73-49b5-9a62-b9df2d214a86",
   "metadata": {},
   "source": [
    "#### Distribution of the number of releases"
   ]
  },
  {
   "cell_type": "code",
   "execution_count": null,
   "id": "c9ba4e96-5fd4-48d9-9b0b-7354e04fc748",
   "metadata": {},
   "outputs": [],
   "source": []
  },
  {
   "cell_type": "markdown",
   "id": "988b2e42-3de4-4830-bac7-fb54b226b146",
   "metadata": {},
   "source": [
    "#### Distribution of the time since last update"
   ]
  },
  {
   "cell_type": "code",
   "execution_count": null,
   "id": "5fd92e3f-74a8-4b88-ab87-c5b1a4aa5b4b",
   "metadata": {},
   "outputs": [],
   "source": []
  },
  {
   "cell_type": "markdown",
   "id": "34be69f2-67f2-4146-a71c-3910d6f790a9",
   "metadata": {},
   "source": [
    "#### Evolution of the time since last update"
   ]
  },
  {
   "cell_type": "code",
   "execution_count": null,
   "id": "e7464cf2-101a-4960-ba2f-48ec648ecfd1",
   "metadata": {},
   "outputs": [],
   "source": []
  }
 ],
 "metadata": {
  "kernelspec": {
   "display_name": "Python 3 (ipykernel)",
   "language": "python",
   "name": "python3"
  },
  "language_info": {
   "codemirror_mode": {
    "name": "ipython",
    "version": 3
   },
   "file_extension": ".py",
   "mimetype": "text/x-python",
   "name": "python",
   "nbconvert_exporter": "python",
   "pygments_lexer": "ipython3",
   "version": "3.9.2"
  },
  "toc-autonumbering": false,
  "toc-showcode": false,
  "toc-showmarkdowntxt": false,
  "toc-showtags": false
 },
 "nbformat": 4,
 "nbformat_minor": 5
}
