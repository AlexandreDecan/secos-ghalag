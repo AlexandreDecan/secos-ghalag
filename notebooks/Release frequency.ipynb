{
 "cells": [
  {
   "cell_type": "markdown",
   "id": "7ee607bd-69ec-455c-9861-f6b79a5df882",
   "metadata": {},
   "source": [
    "This notebook aims to provide a quantification of the Actions (and their releases) from the dataset, as well as some insights about the release frequency of Actions and the evolution of this frequency through time. It also provides insight on how frequently workflows are updated in repositories using GHA."
   ]
  },
  {
   "cell_type": "code",
   "execution_count": 1,
   "id": "12605561-504a-4f1b-967d-9ceab781abaf",
   "metadata": {},
   "outputs": [],
   "source": [
    "import pandas as pd\n",
    "import numpy as np\n",
    "import matplotlib\n",
    "import matplotlib.pyplot\n",
    "import seaborn\n",
    "import lifelines"
   ]
  },
  {
   "cell_type": "code",
   "execution_count": 2,
   "id": "5a8fab65-17b6-4569-83b8-f75c526b8a84",
   "metadata": {},
   "outputs": [],
   "source": [
    "FIG_SIZE = (6, 3)\n",
    "FIG_SIZE_WIDE = (9, 3)\n",
    "\n",
    "PALETTE = seaborn.color_palette()\n",
    "DATE_RANGE = pd.to_datetime('2019-11-01'), pd.to_datetime('2022-08-31')\n",
    "REL_CENSOR = pd.to_datetime('2018-10-16')  # Limited public beta of GHA\n",
    "\n",
    "matplotlib.rcParams['figure.figsize'] = FIG_SIZE\n",
    "# matplotlib.rcParams['legend.framealpha'] = 1\n",
    "matplotlib.rcParams['text.latex.preamble'] = r'\\usepackage{amsmath}'\n",
    "\n",
    "SEED = 12345\n",
    "SAVEFIG = False\n",
    "\n",
    "def _savefig(fig, name):\n",
    "    import os\n",
    "    fig.savefig(\n",
    "        os.path.join('..', 'figures', '{}.pdf'.format(name)),\n",
    "        bbox_inches='tight'\n",
    "    )\n",
    "    \n",
    "savefig = _savefig if SAVEFIG else lambda x, y: None"
   ]
  },
  {
   "cell_type": "markdown",
   "id": "4383f98e-58d9-40a0-bc61-840342079ec9",
   "metadata": {},
   "source": [
    "### Load data"
   ]
  },
  {
   "cell_type": "code",
   "execution_count": 3,
   "id": "e03794ad-f983-4187-a87c-201f6945e9ba",
   "metadata": {},
   "outputs": [],
   "source": [
    "# Releases of Actions\n",
    "df_releases = (\n",
    "    pd.read_csv('../data/releases.csv.gz')\n",
    "    .assign(date=lambda d: pd.to_datetime(d.date, errors='coerce').dt.tz_convert(None))\n",
    "    .rename(columns={'release': 'version'})\n",
    "    [lambda d: d.date.between(REL_CENSOR, DATE_RANGE[1], inclusive='both')]\n",
    "    [['owner', 'repo', 'version', 'date']]\n",
    ")"
   ]
  },
  {
   "cell_type": "code",
   "execution_count": 4,
   "id": "a423c3c7-82c2-4b8a-80d0-b2bd464f7d28",
   "metadata": {},
   "outputs": [],
   "source": [
    "# Updates of workflows\n",
    "df_workflows = (\n",
    "    pd.read_csv('../data/workflow_files.csv.gz')\n",
    "    .assign(date=lambda d: pd.to_datetime(d.date))\n",
    "    [['repository', 'date', 'filename', 'workflow']]\n",
    ")"
   ]
  },
  {
   "cell_type": "markdown",
   "id": "b4ee49e0-b28e-4d83-ade6-18db427bac30",
   "metadata": {},
   "source": [
    "### Data overview"
   ]
  },
  {
   "cell_type": "markdown",
   "id": "c5d2f5a2-7e3f-4286-8965-cee6ab122610",
   "metadata": {},
   "source": [
    "#### Evolution of the number of Actions and releases"
   ]
  },
  {
   "cell_type": "code",
   "execution_count": 5,
   "id": "6a60f372-0f55-4252-b9b5-ecf4af99d327",
   "metadata": {},
   "outputs": [
    {
     "data": {
      "image/png": "[encoded data removed]",
      "text/plain": [
       "<Figure size 432x216 with 1 Axes>"
      ]
     },
     "metadata": {
      "needs_background": "light"
     },
     "output_type": "display_data"
    }
   ],
   "source": [
    "fig, ax = matplotlib.pyplot.subplots()\n",
    "# fig.set_size_inches(FIG_SIZE)\n",
    "\n",
    "temp = (\n",
    "    df_releases\n",
    "    .sort_values('date', ascending=True)\n",
    "    .drop_duplicates(['owner', 'repo'], keep='first')\n",
    "    .assign(actions=lambda d: range(1, len(d) + 1))\n",
    "    .merge(\n",
    "        df_releases.sort_values('date', ascending=True).assign(releases=lambda d: range(1, len(d) + 1)),\n",
    "        how='right',\n",
    "        on=['owner', 'repo', 'date'],\n",
    "    )\n",
    "    [['date', 'owner', 'repo', 'actions', 'releases']]\n",
    "    .fillna(method='ffill')\n",
    "    .groupby(pd.Grouper(key='date', freq='M'))\n",
    "    .max()\n",
    ")\n",
    "\n",
    "(\n",
    "    temp\n",
    "    [['actions', 'releases']]\n",
    "    .assign(actions=lambda d: d.actions * 10)\n",
    "    .rename(columns={'actions': 'actions x10'})\n",
    "    .plot(ax=ax, color=PALETTE)\n",
    ")\n",
    "\n",
    "ax.set(\n",
    "    xlabel=None,\n",
    "    xlim=DATE_RANGE,\n",
    "    ylabel=None\n",
    ")\n",
    "\n",
    "savefig(fig, 'rel_evolution')"
   ]
  },
  {
   "cell_type": "code",
   "execution_count": 6,
   "id": "17725744-5efc-4a9f-9e88-22dda5d4e37d",
   "metadata": {},
   "outputs": [
    {
     "data": {
      "text/plain": [
       "owner       zwaldowski\n",
       "repo                yq\n",
       "actions          669.0\n",
       "releases          2634\n",
       "Name: 2019-11-30 00:00:00, dtype: object"
      ]
     },
     "metadata": {},
     "output_type": "display_data"
    },
    {
     "data": {
      "text/plain": [
       "owner              zricethezav\n",
       "repo        zola-deploy-action\n",
       "actions                 2811.0\n",
       "releases                 28889\n",
       "Name: 2022-08-31 00:00:00, dtype: object"
      ]
     },
     "metadata": {},
     "output_type": "display_data"
    }
   ],
   "source": [
    "display(temp[lambda d: d.index >= DATE_RANGE[0]].iloc[0])\n",
    "display(temp.iloc[-1])"
   ]
  },
  {
   "cell_type": "markdown",
   "id": "0a0e9853-51c7-40de-8e98-50d28303c856",
   "metadata": {},
   "source": [
    "#### Monthly number of releases"
   ]
  },
  {
   "cell_type": "code",
   "execution_count": 7,
   "id": "fc5de91b-3133-46a9-83d0-9196735078a4",
   "metadata": {},
   "outputs": [
    {
     "data": {
      "image/png": "[encoded data removed]",
      "text/plain": [
       "<Figure size 432x216 with 1 Axes>"
      ]
     },
     "metadata": {
      "needs_background": "light"
     },
     "output_type": "display_data"
    }
   ],
   "source": [
    "fig, ax = matplotlib.pyplot.subplots()\n",
    "\n",
    "temp = (\n",
    "    df_releases\n",
    "    .groupby(pd.Grouper(key='date', freq='M'))\n",
    "    .agg(releases=('version', 'count'))\n",
    ")\n",
    "\n",
    "temp['releases'].plot(ax=ax, color=PALETTE)\n",
    "\n",
    "ax.set(\n",
    "    xlabel=None,\n",
    "    xlim=DATE_RANGE,\n",
    "    ylabel='number of releases',\n",
    ")\n",
    "\n",
    "savefig(fig, 'rel_monthly_number')"
   ]
  },
  {
   "cell_type": "code",
   "execution_count": 8,
   "id": "78a574fb-9ae2-4986-8b4f-4c04df34449b",
   "metadata": {},
   "outputs": [
    {
     "data": {
      "text/html": [
       "<div>\n",
       "<style scoped>\n",
       "    .dataframe tbody tr th:only-of-type {\n",
       "        vertical-align: middle;\n",
       "    }\n",
       "\n",
       "    .dataframe tbody tr th {\n",
       "        vertical-align: top;\n",
       "    }\n",
       "\n",
       "    .dataframe thead th {\n",
       "        text-align: right;\n",
       "    }\n",
       "</style>\n",
       "<table border=\"1\" class=\"dataframe\">\n",
       "  <thead>\n",
       "    <tr style=\"text-align: right;\">\n",
       "      <th></th>\n",
       "      <th>releases</th>\n",
       "    </tr>\n",
       "  </thead>\n",
       "  <tbody>\n",
       "    <tr>\n",
       "      <th>count</th>\n",
       "      <td>47.000000</td>\n",
       "    </tr>\n",
       "    <tr>\n",
       "      <th>mean</th>\n",
       "      <td>614.659574</td>\n",
       "    </tr>\n",
       "    <tr>\n",
       "      <th>std</th>\n",
       "      <td>327.628188</td>\n",
       "    </tr>\n",
       "    <tr>\n",
       "      <th>min</th>\n",
       "      <td>12.000000</td>\n",
       "    </tr>\n",
       "    <tr>\n",
       "      <th>25%</th>\n",
       "      <td>567.500000</td>\n",
       "    </tr>\n",
       "    <tr>\n",
       "      <th>50%</th>\n",
       "      <td>706.000000</td>\n",
       "    </tr>\n",
       "    <tr>\n",
       "      <th>75%</th>\n",
       "      <td>816.500000</td>\n",
       "    </tr>\n",
       "    <tr>\n",
       "      <th>max</th>\n",
       "      <td>1149.000000</td>\n",
       "    </tr>\n",
       "  </tbody>\n",
       "</table>\n",
       "</div>"
      ],
      "text/plain": [
       "          releases\n",
       "count    47.000000\n",
       "mean    614.659574\n",
       "std     327.628188\n",
       "min      12.000000\n",
       "25%     567.500000\n",
       "50%     706.000000\n",
       "75%     816.500000\n",
       "max    1149.000000"
      ]
     },
     "execution_count": 8,
     "metadata": {},
     "output_type": "execute_result"
    }
   ],
   "source": [
    "temp.describe()"
   ]
  },
  {
   "cell_type": "markdown",
   "id": "f4134beb-c512-42ca-85cc-2677cb4ff676",
   "metadata": {},
   "source": [
    "#### Monthly proportion of Actions being updated"
   ]
  },
  {
   "cell_type": "code",
   "execution_count": 9,
   "id": "4f273ec4-2424-45af-88d8-c2c0684b1e47",
   "metadata": {},
   "outputs": [
    {
     "data": {
      "image/png": "[encoded data removed]",
      "text/plain": [
       "<Figure size 432x216 with 1 Axes>"
      ]
     },
     "metadata": {
      "needs_background": "light"
     },
     "output_type": "display_data"
    }
   ],
   "source": [
    "fig, ax = matplotlib.pyplot.subplots()\n",
    "\n",
    "temp = (\n",
    "    df_releases\n",
    "    .sort_values('date', ascending=True)\n",
    "    .drop_duplicates(['owner', 'repo'], keep='first')\n",
    "    .assign(actions=lambda d: range(1, len(d) + 1))\n",
    "    .groupby(pd.Grouper(key='date', freq='M'))\n",
    "    .agg({'actions': 'max'})\n",
    "    .merge(\n",
    "        df_releases\n",
    "        .assign(repository=lambda d: d.owner + '/' + d.repo)\n",
    "        .groupby(pd.Grouper(key='date', freq='M'))\n",
    "        .agg(updated=('repository', 'nunique')),\n",
    "        how='outer',\n",
    "        left_index=True,\n",
    "        right_index=True,\n",
    "    )\n",
    "    .assign(proportion=lambda d: d['updated'] / d['actions'])\n",
    ")\n",
    "\n",
    "temp['proportion'].plot(ax=ax, color=PALETTE)\n",
    "\n",
    "ax.set(\n",
    "    xlabel=None,\n",
    "    xlim=DATE_RANGE,\n",
    "    ylim=(0, 0.5), \n",
    "    ylabel='proportion of updated Actions'\n",
    ")\n",
    "\n",
    "savefig(fig, 'rel_prop_updated')"
   ]
  },
  {
   "cell_type": "code",
   "execution_count": 10,
   "id": "d7af5ca0-e32d-4e9f-b4ac-a1f572878955",
   "metadata": {},
   "outputs": [
    {
     "data": {
      "text/plain": [
       "actions       2811.000000\n",
       "updated        351.000000\n",
       "proportion       0.124867\n",
       "Name: 2022-08-31 00:00:00, dtype: float64"
      ]
     },
     "execution_count": 10,
     "metadata": {},
     "output_type": "execute_result"
    }
   ],
   "source": [
    "temp.iloc[-1]"
   ]
  },
  {
   "cell_type": "markdown",
   "id": "ece429ae-947e-4144-83e6-e26c1be0a419",
   "metadata": {},
   "source": [
    "#### Evolution of the number of repositories using GHA"
   ]
  },
  {
   "cell_type": "code",
   "execution_count": 11,
   "id": "48a4a3e0-64b5-46e5-bbfd-f3b515d6a2b4",
   "metadata": {},
   "outputs": [
    {
     "data": {
      "image/png": "[encoded data removed]",
      "text/plain": [
       "<Figure size 432x216 with 1 Axes>"
      ]
     },
     "metadata": {
      "needs_background": "light"
     },
     "output_type": "display_data"
    }
   ],
   "source": [
    "fig, ax = matplotlib.pyplot.subplots()\n",
    "\n",
    "temp = (\n",
    "    df_workflows\n",
    "    .sort_values('date', ascending=True)\n",
    "    .drop_duplicates('repository', keep='first')\n",
    "    .assign(repositories=lambda d: range(1, len(d) + 1))\n",
    "    .groupby(pd.Grouper(key='date', freq='M'))\n",
    "    .agg({'repositories': 'max'})\n",
    ")\n",
    "\n",
    "temp['repositories'].plot(ax=ax, color=PALETTE)\n",
    "\n",
    "ax.set(\n",
    "    xlabel=None,\n",
    "    xlim=DATE_RANGE,\n",
    "    ylabel='number of repositories',\n",
    ")\n",
    "\n",
    "savefig(fig, 'workflow_repository_number')"
   ]
  },
  {
   "cell_type": "code",
   "execution_count": 12,
   "id": "6c592044-d11e-4a3f-88c7-02fa79d9bb6e",
   "metadata": {},
   "outputs": [
    {
     "data": {
      "text/html": [
       "<div>\n",
       "<style scoped>\n",
       "    .dataframe tbody tr th:only-of-type {\n",
       "        vertical-align: middle;\n",
       "    }\n",
       "\n",
       "    .dataframe tbody tr th {\n",
       "        vertical-align: top;\n",
       "    }\n",
       "\n",
       "    .dataframe thead th {\n",
       "        text-align: right;\n",
       "    }\n",
       "</style>\n",
       "<table border=\"1\" class=\"dataframe\">\n",
       "  <thead>\n",
       "    <tr style=\"text-align: right;\">\n",
       "      <th></th>\n",
       "      <th>count</th>\n",
       "      <th>mean</th>\n",
       "      <th>std</th>\n",
       "      <th>min</th>\n",
       "      <th>25%</th>\n",
       "      <th>50%</th>\n",
       "      <th>75%</th>\n",
       "      <th>max</th>\n",
       "    </tr>\n",
       "  </thead>\n",
       "  <tbody>\n",
       "    <tr>\n",
       "      <th>repositories</th>\n",
       "      <td>35.0</td>\n",
       "      <td>13327.171429</td>\n",
       "      <td>7044.768983</td>\n",
       "      <td>1237.0</td>\n",
       "      <td>7199.5</td>\n",
       "      <td>14644.0</td>\n",
       "      <td>19603.0</td>\n",
       "      <td>22758.0</td>\n",
       "    </tr>\n",
       "  </tbody>\n",
       "</table>\n",
       "</div>"
      ],
      "text/plain": [
       "              count          mean          std     min     25%      50%  \\\n",
       "repositories   35.0  13327.171429  7044.768983  1237.0  7199.5  14644.0   \n",
       "\n",
       "                  75%      max  \n",
       "repositories  19603.0  22758.0  "
      ]
     },
     "execution_count": 12,
     "metadata": {},
     "output_type": "execute_result"
    }
   ],
   "source": [
    "temp.describe().T"
   ]
  },
  {
   "cell_type": "markdown",
   "id": "541ab618-c0f4-489d-884d-b3ecbea5573a",
   "metadata": {},
   "source": [
    "#### Evolution of the number of workflow updates"
   ]
  },
  {
   "cell_type": "markdown",
   "id": "23185679-39ff-47d1-8ab4-7c2d75f9b1b2",
   "metadata": {},
   "source": [
    "A workflow update is detected by comparing the hash value of a workflow file with the hash value for the same workflow file in the previous snapshot. Newly introduced workflows are also considered as updates. "
   ]
  },
  {
   "cell_type": "code",
   "execution_count": 13,
   "id": "d75a7779-c9f4-4f54-8f16-a6ca65c5b4ab",
   "metadata": {},
   "outputs": [],
   "source": [
    "# Let's store this dataframe since it will be used in many of the following cells.\n",
    "data = (\n",
    "    df_workflows\n",
    "    .sort_values(['repository', 'filename', 'date'])\n",
    "    .assign(workflow_previous=lambda d: d.workflow.shift(1))\n",
    "    # Since we applied shift on all repositories/date, let's remove the extra ones. \n",
    "    .assign(workflow_previous=lambda d: d.workflow_previous.where(d[['repository', 'filename']].duplicated(), np.nan))\n",
    "    .assign(updated=lambda d: d.workflow != d.workflow_previous)\n",
    ")"
   ]
  },
  {
   "cell_type": "code",
   "execution_count": 14,
   "id": "3835e240-f489-4e31-a194-ccf475c95276",
   "metadata": {},
   "outputs": [
    {
     "data": {
      "image/png": "[encoded data removed]",
      "text/plain": [
       "<Figure size 432x216 with 1 Axes>"
      ]
     },
     "metadata": {
      "needs_background": "light"
     },
     "output_type": "display_data"
    }
   ],
   "source": [
    "fig, ax = matplotlib.pyplot.subplots()\n",
    "\n",
    "temp = (\n",
    "    data\n",
    "    .groupby(pd.Grouper(key='date', freq='M'))\n",
    "    .agg(updates=('updated', 'sum'))\n",
    ")\n",
    "\n",
    "temp['updates'].plot(ax=ax, color=PALETTE)\n",
    "\n",
    "ax.set(\n",
    "    xlabel=None,\n",
    "    xlim=DATE_RANGE,\n",
    "    ylabel='number of workflow updates',\n",
    ")\n",
    "\n",
    "savefig(fig, 'workflow_monthly_updates')"
   ]
  },
  {
   "cell_type": "markdown",
   "id": "28d64a2d-92e9-4830-8c21-78282b66fb0b",
   "metadata": {},
   "source": [
    "#### Monthly proportion of repositories updating a workflow file"
   ]
  },
  {
   "cell_type": "code",
   "execution_count": 15,
   "id": "ccc5f087-f665-4df4-ab01-4718eb545169",
   "metadata": {},
   "outputs": [
    {
     "data": {
      "image/png": "[encoded data removed]",
      "text/plain": [
       "<Figure size 432x216 with 1 Axes>"
      ]
     },
     "metadata": {
      "needs_background": "light"
     },
     "output_type": "display_data"
    }
   ],
   "source": [
    "fig, ax = matplotlib.pyplot.subplots()\n",
    "\n",
    "temp = (\n",
    "    data\n",
    "    .sort_values(['date', 'repository'])\n",
    "    .assign(repositories=lambda d: (~d['repository'].duplicated()).cumsum())\n",
    "    [lambda d: d.updated]\n",
    "    .groupby(pd.Grouper(key='date', freq='M'))\n",
    "    .agg(\n",
    "        updated=('repository', 'nunique'),\n",
    "        repositories=('repositories', 'max'),\n",
    "    )\n",
    "    .assign(proportion=lambda d: d.updated / d.repositories)\n",
    ")\n",
    "\n",
    "temp['proportion'].plot(ax=ax, color=PALETTE)\n",
    "\n",
    "ax.set(\n",
    "    xlabel=None,\n",
    "    xlim=DATE_RANGE,\n",
    "    ylabel='proportion of repositories',\n",
    "    ylim=(0, 1)\n",
    ")\n",
    "\n",
    "savefig(fig, 'workflow_prop_repo_updated')"
   ]
  },
  {
   "cell_type": "markdown",
   "id": "2a0a1e96-e703-446c-9313-526349097712",
   "metadata": {},
   "source": [
    "#### Combining monthly proportion of updated actions/updated repositories"
   ]
  },
  {
   "cell_type": "code",
   "execution_count": 16,
   "id": "522b4e45-fcaa-4296-b22d-7f23c49f5ae0",
   "metadata": {},
   "outputs": [
    {
     "data": {
      "image/png": "[encoded data removed]",
      "text/plain": [
       "<Figure size 432x216 with 1 Axes>"
      ]
     },
     "metadata": {
      "needs_background": "light"
     },
     "output_type": "display_data"
    }
   ],
   "source": [
    "fig, ax = matplotlib.pyplot.subplots()\n",
    "\n",
    "# Code taken from the above cell\n",
    "(\n",
    "    data\n",
    "    .sort_values(['date', 'repository'])\n",
    "    .assign(repositories=lambda d: (~d['repository'].duplicated()).cumsum())\n",
    "    [lambda d: d.updated]\n",
    "    .groupby(pd.Grouper(key='date', freq='M'))\n",
    "    .agg(\n",
    "        updated=('repository', 'nunique'),\n",
    "        repositories=('repositories', 'max'),\n",
    "    )\n",
    "    .assign(repositories=lambda d: d.updated / d.repositories)\n",
    "    [['repositories']]\n",
    "    .plot(ax=ax, color=PALETTE[1])\n",
    ")\n",
    "\n",
    "# Code taken from a cell above\n",
    "(\n",
    "    df_releases\n",
    "    .sort_values('date', ascending=True)\n",
    "    .drop_duplicates(['owner', 'repo'], keep='first')\n",
    "    .assign(actions=lambda d: range(1, len(d) + 1))\n",
    "    .groupby(pd.Grouper(key='date', freq='M'))\n",
    "    .agg({'actions': 'max'})\n",
    "    .merge(\n",
    "        df_releases\n",
    "        .assign(repository=lambda d: d.owner + '/' + d.repo)\n",
    "        .groupby(pd.Grouper(key='date', freq='M'))\n",
    "        .agg(updated=('repository', 'nunique')),\n",
    "        how='outer',\n",
    "        left_index=True,\n",
    "        right_index=True,\n",
    "    )\n",
    "    .assign(actions=lambda d: d['updated'] / d['actions'])\n",
    "    [['actions']]\n",
    "    .plot(ax=ax, color=PALETTE[0])\n",
    ")\n",
    "\n",
    "\n",
    "ax.set(\n",
    "    xlabel=None,\n",
    "    xlim=DATE_RANGE,\n",
    "    ylim=(0, 1), \n",
    "    ylabel='proportion of updated\\nActions and repositories'\n",
    ")\n",
    "\n",
    "savefig(fig, 'prop_updated_both')"
   ]
  },
  {
   "cell_type": "markdown",
   "id": "15e659f4-95fb-4fdf-95aa-ae3d91509636",
   "metadata": {},
   "source": [
    "### Release frequency"
   ]
  },
  {
   "cell_type": "markdown",
   "id": "b4b41352-0c73-49b5-9a62-b9df2d214a86",
   "metadata": {},
   "source": [
    "#### Distribution of the number of releases"
   ]
  },
  {
   "cell_type": "code",
   "execution_count": 17,
   "id": "c9ba4e96-5fd4-48d9-9b0b-7354e04fc748",
   "metadata": {},
   "outputs": [
    {
     "data": {
      "image/png": "[encoded data removed]",
      "text/plain": [
       "<Figure size 432x216 with 1 Axes>"
      ]
     },
     "metadata": {
      "needs_background": "light"
     },
     "output_type": "display_data"
    }
   ],
   "source": [
    "fig, ax = matplotlib.pyplot.subplots()\n",
    "\n",
    "temp = (\n",
    "    df_releases\n",
    "    .groupby(['owner', 'repo'], as_index=False)\n",
    "    .agg(releases=('version', 'count'))   \n",
    ")\n",
    "\n",
    "seaborn.boxenplot(\n",
    "    data=temp,\n",
    "    orient='h',\n",
    "    palette=PALETTE,\n",
    "    ax=ax,\n",
    ")\n",
    "\n",
    "ax.set_yticklabels([])\n",
    "\n",
    "ax.set(\n",
    "    xlabel='number of releases',\n",
    "    xlim=(0, 100),\n",
    "    ylabel=None,\n",
    ")\n",
    "       \n",
    "savefig(fig, 'rel_distribution_number')"
   ]
  },
  {
   "cell_type": "code",
   "execution_count": 18,
   "id": "74fbf4a6-35b0-44d2-be00-7ec7ba2fc7c8",
   "metadata": {},
   "outputs": [
    {
     "data": {
      "text/plain": [
       "count    2811.000000\n",
       "mean       10.277126\n",
       "std        31.201441\n",
       "min         1.000000\n",
       "25%         2.000000\n",
       "50%         4.000000\n",
       "75%        10.000000\n",
       "max      1074.000000\n",
       "Name: releases, dtype: float64"
      ]
     },
     "execution_count": 18,
     "metadata": {},
     "output_type": "execute_result"
    }
   ],
   "source": [
    "temp.releases.describe()"
   ]
  },
  {
   "cell_type": "markdown",
   "id": "c672a593-b172-42f8-9e30-d6b21765a6c1",
   "metadata": {},
   "source": [
    "#### Same analysis, but different visualization"
   ]
  },
  {
   "cell_type": "code",
   "execution_count": 19,
   "id": "769f6c83-4dfc-4d0d-9b0d-2ef5fb01fbe0",
   "metadata": {},
   "outputs": [
    {
     "data": {
      "image/png": "[encoded data removed]",
      "text/plain": [
       "<Figure size 432x216 with 1 Axes>"
      ]
     },
     "metadata": {
      "needs_background": "light"
     },
     "output_type": "display_data"
    }
   ],
   "source": [
    "fig, ax = matplotlib.pyplot.subplots()\n",
    "\n",
    "threshold = 12\n",
    "\n",
    "temp = (\n",
    "    df_releases\n",
    "    .groupby(['owner', 'repo'], as_index=False)\n",
    "    .agg(releases=('version', 'count'))\n",
    "    .assign(releases=lambda d: np.where(d.releases < threshold, d.releases, f'{threshold}+'))\n",
    "    .groupby('releases', as_index=False)\n",
    "    .agg(actions=('repo', 'count'))\n",
    "    .assign(prop=lambda d: d.actions / d.actions.sum())\n",
    ")\n",
    "        \n",
    "seaborn.barplot(\n",
    "    x='releases',\n",
    "    y='prop',\n",
    "    order=list(map(str, range(1, threshold))) + [f'{threshold}+'],\n",
    "    data=temp,\n",
    "    color=PALETTE[0],\n",
    "    ax=ax,\n",
    ")\n",
    "        \n",
    "ax.set(\n",
    "    xlabel='number of releases',\n",
    "    ylabel='proportion of Actions',\n",
    "    ylim=(0, 0.50),\n",
    ")\n",
    "       \n",
    "savefig(fig, 'rel_distribution_number_variant')"
   ]
  },
  {
   "cell_type": "code",
   "execution_count": 20,
   "id": "42cf3d2d-f89d-42ea-9866-3f4f250b53ef",
   "metadata": {},
   "outputs": [
    {
     "data": {
      "text/html": [
       "<div>\n",
       "<style scoped>\n",
       "    .dataframe tbody tr th:only-of-type {\n",
       "        vertical-align: middle;\n",
       "    }\n",
       "\n",
       "    .dataframe tbody tr th {\n",
       "        vertical-align: top;\n",
       "    }\n",
       "\n",
       "    .dataframe thead th {\n",
       "        text-align: right;\n",
       "    }\n",
       "</style>\n",
       "<table border=\"1\" class=\"dataframe\">\n",
       "  <thead>\n",
       "    <tr style=\"text-align: right;\">\n",
       "      <th>releases</th>\n",
       "      <th>1</th>\n",
       "      <th>2</th>\n",
       "      <th>3</th>\n",
       "      <th>4</th>\n",
       "      <th>5</th>\n",
       "      <th>6</th>\n",
       "      <th>7</th>\n",
       "      <th>8</th>\n",
       "      <th>9</th>\n",
       "      <th>10</th>\n",
       "      <th>11</th>\n",
       "      <th>12+</th>\n",
       "    </tr>\n",
       "  </thead>\n",
       "  <tbody>\n",
       "    <tr>\n",
       "      <th>actions</th>\n",
       "      <td>535.000000</td>\n",
       "      <td>382.000000</td>\n",
       "      <td>286.000000</td>\n",
       "      <td>205.000000</td>\n",
       "      <td>176.000000</td>\n",
       "      <td>156.000000</td>\n",
       "      <td>112.000000</td>\n",
       "      <td>114.000000</td>\n",
       "      <td>94.00000</td>\n",
       "      <td>84.000000</td>\n",
       "      <td>70.000000</td>\n",
       "      <td>597.00000</td>\n",
       "    </tr>\n",
       "    <tr>\n",
       "      <th>prop</th>\n",
       "      <td>0.190324</td>\n",
       "      <td>0.135895</td>\n",
       "      <td>0.101743</td>\n",
       "      <td>0.072928</td>\n",
       "      <td>0.062611</td>\n",
       "      <td>0.055496</td>\n",
       "      <td>0.039843</td>\n",
       "      <td>0.040555</td>\n",
       "      <td>0.03344</td>\n",
       "      <td>0.029883</td>\n",
       "      <td>0.024902</td>\n",
       "      <td>0.21238</td>\n",
       "    </tr>\n",
       "  </tbody>\n",
       "</table>\n",
       "</div>"
      ],
      "text/plain": [
       "releases           1           2           3           4           5  \\\n",
       "actions   535.000000  382.000000  286.000000  205.000000  176.000000   \n",
       "prop        0.190324    0.135895    0.101743    0.072928    0.062611   \n",
       "\n",
       "releases           6           7           8         9         10         11  \\\n",
       "actions   156.000000  112.000000  114.000000  94.00000  84.000000  70.000000   \n",
       "prop        0.055496    0.039843    0.040555   0.03344   0.029883   0.024902   \n",
       "\n",
       "releases        12+  \n",
       "actions   597.00000  \n",
       "prop        0.21238  "
      ]
     },
     "execution_count": 20,
     "metadata": {},
     "output_type": "execute_result"
    }
   ],
   "source": [
    "temp.set_index('releases').loc[list(map(str, range(1, threshold))) + [f'{threshold}+']].T"
   ]
  },
  {
   "cell_type": "markdown",
   "id": "988b2e42-3de4-4830-bac7-fb54b226b146",
   "metadata": {},
   "source": [
    "#### Distribution of the time since last update"
   ]
  },
  {
   "cell_type": "code",
   "execution_count": 21,
   "id": "94d5176c-7774-43ff-aaf2-7096d236a7ff",
   "metadata": {},
   "outputs": [],
   "source": [
    "# Let's store this dataframe since it will be used in many cells.\n",
    "data = (\n",
    "    df_releases\n",
    "    .sort_values(['owner', 'repo', 'date'])\n",
    "    .assign(updated=lambda d: d.date.shift(-1))\n",
    "    # Since we applied shift on all actions/date, let's remove the extra ones. \n",
    "    .assign(updated=lambda d: d.updated.where(d[['owner', 'repo']].duplicated(keep='last'), np.nan))\n",
    "    .assign(duration=lambda d: d.updated.fillna(d.date.max()) - d.date)\n",
    ")"
   ]
  },
  {
   "cell_type": "code",
   "execution_count": 22,
   "id": "5fd92e3f-74a8-4b88-ab87-c5b1a4aa5b4b",
   "metadata": {},
   "outputs": [
    {
     "data": {
      "image/png": "[encoded data removed]",
      "text/plain": [
       "<Figure size 432x216 with 1 Axes>"
      ]
     },
     "metadata": {
      "needs_background": "light"
     },
     "output_type": "display_data"
    }
   ],
   "source": [
    "fig, ax = matplotlib.pyplot.subplots()\n",
    "\n",
    "kmf = lifelines.KaplanMeierFitter()\n",
    "_ = data\n",
    "kmf.fit(_.duration / pd.to_timedelta('30 days'), ~_.updated.isnull(), label='all releases')\n",
    "kmf.plot(legend=True, color=PALETTE[0], ax=ax)\n",
    "\n",
    "# Excluding releases made within 24 hours: \n",
    "_ = data[lambda d: d.duration >= pd.to_timedelta('1 day')]\n",
    "kmf.fit(_.duration / pd.to_timedelta('30 days'), ~_.updated.isnull(), label='filtered releases')\n",
    "kmf.plot(legend=True, color=PALETTE[1], ax=ax)\n",
    "\n",
    "ax.set(\n",
    "    xlabel='time since last release (in months)', \n",
    "    xlim=(0, 12),\n",
    "    ylabel='survival probability',\n",
    "    ylim=(0, 1),\n",
    ")\n",
    "\n",
    "savefig(fig, 'rel_survival')"
   ]
  },
  {
   "cell_type": "code",
   "execution_count": 23,
   "id": "f4fa45be-779b-4fe8-99f6-040694adc128",
   "metadata": {},
   "outputs": [
    {
     "data": {
      "text/plain": [
       "0     1.000000\n",
       "1     0.475087\n",
       "2     0.349930\n",
       "3     0.285029\n",
       "4     0.243631\n",
       "5     0.214076\n",
       "6     0.191342\n",
       "7     0.173091\n",
       "8     0.159770\n",
       "9     0.150324\n",
       "10    0.141929\n",
       "11    0.132316\n",
       "12    0.125453\n",
       "Name: filtered releases, dtype: float64"
      ]
     },
     "execution_count": 23,
     "metadata": {},
     "output_type": "execute_result"
    }
   ],
   "source": [
    "kmf.survival_function_at_times(range(0, 13))"
   ]
  }
 ],
 "metadata": {
  "kernelspec": {
   "display_name": "Python 3 (ipykernel)",
   "language": "python",
   "name": "python3"
  },
  "language_info": {
   "codemirror_mode": {
    "name": "ipython",
    "version": 3
   },
   "file_extension": ".py",
   "mimetype": "text/x-python",
   "name": "python",
   "nbconvert_exporter": "python",
   "pygments_lexer": "ipython3",
   "version": "3.9.2"
  },
  "toc-autonumbering": false,
  "toc-showcode": false,
  "toc-showmarkdowntxt": false,
  "toc-showtags": false
 },
 "nbformat": 4,
 "nbformat_minor": 5
}
