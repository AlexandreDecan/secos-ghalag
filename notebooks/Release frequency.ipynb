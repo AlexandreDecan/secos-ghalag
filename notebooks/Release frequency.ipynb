{
 "cells": [
  {
   "cell_type": "markdown",
   "id": "7ee607bd-69ec-455c-9861-f6b79a5df882",
   "metadata": {},
   "source": [
    "This notebook aims to provide a quantification of the Actions (and their releases) from the dataset, as well as some insights about the release frequency of Actions and the evolution of this frequency through time. It also provides insight on how frequently workflows are updated in repositories using GHA."
   ]
  },
  {
   "cell_type": "code",
   "execution_count": 1,
   "id": "12605561-504a-4f1b-967d-9ceab781abaf",
   "metadata": {},
   "outputs": [],
   "source": [
    "import pandas as pd\n",
    "import numpy as np\n",
    "import matplotlib\n",
    "import matplotlib.pyplot\n",
    "import seaborn\n",
    "import lifelines"
   ]
  },
  {
   "cell_type": "code",
   "execution_count": 73,
   "id": "5a8fab65-17b6-4569-83b8-f75c526b8a84",
   "metadata": {},
   "outputs": [],
   "source": [
    "FIG_SIZE = (6, 3)\n",
    "FIG_SIZE_WIDE = (9, 3)\n",
    "\n",
    "PALETTE = seaborn.color_palette()\n",
    "DATE_RANGE = pd.to_datetime('2019-11-01'), pd.to_datetime('2022-08-31')\n",
    "REL_CENSOR = pd.to_datetime('2018-10-16')  # Limited public beta of GHA\n",
    "\n",
    "matplotlib.rcParams['figure.figsize'] = FIG_SIZE\n",
    "# matplotlib.rcParams['legend.framealpha'] = 1\n",
    "matplotlib.rcParams['text.latex.preamble'] = r'\\usepackage{amsmath}'\n",
    "\n",
    "SEED = 12345\n",
    "SAVEFIG = False\n",
    "\n",
    "def _savefig(fig, name):\n",
    "    import os\n",
    "    fig.savefig(\n",
    "        os.path.join('..', 'figures', '{}.pdf'.format(name)),\n",
    "        bbox_inches='tight'\n",
    "    )\n",
    "    \n",
    "savefig = _savefig if SAVEFIG else lambda x, y: None"
   ]
  },
  {
   "cell_type": "markdown",
   "id": "4383f98e-58d9-40a0-bc61-840342079ec9",
   "metadata": {},
   "source": [
    "### Load data"
   ]
  },
  {
   "cell_type": "code",
   "execution_count": 74,
   "id": "e03794ad-f983-4187-a87c-201f6945e9ba",
   "metadata": {},
   "outputs": [],
   "source": [
    "# Releases of Actions\n",
    "df_releases = (\n",
    "    pd.read_csv('../data/releases.csv.gz')\n",
    "    .assign(date=lambda d: pd.to_datetime(d.date, errors='coerce').dt.tz_convert(None))\n",
    "    # Convert to lower case since a repository is not case-sensitive.\n",
    "    .assign(owner=lambda d: d.owner.str.lower())\n",
    "    .assign(repo=lambda d: d.repo.str.lower())\n",
    "    .rename(columns={'release': 'version'})\n",
    "    [lambda d: d.date.between(REL_CENSOR, DATE_RANGE[1], inclusive='both')]\n",
    "    [['owner', 'repo', 'version', 'date']]\n",
    ")"
   ]
  },
  {
   "cell_type": "code",
   "execution_count": 66,
   "id": "a423c3c7-82c2-4b8a-80d0-b2bd464f7d28",
   "metadata": {},
   "outputs": [],
   "source": [
    "# Updates of workflows\n"
   ]
  },
  {
   "cell_type": "markdown",
   "id": "b4ee49e0-b28e-4d83-ade6-18db427bac30",
   "metadata": {},
   "source": [
    "### Data overview"
   ]
  },
  {
   "cell_type": "markdown",
   "id": "c5d2f5a2-7e3f-4286-8965-cee6ab122610",
   "metadata": {},
   "source": [
    "#### Evolution of the number of Actions and releases"
   ]
  },
  {
   "cell_type": "code",
   "execution_count": 67,
   "id": "6a60f372-0f55-4252-b9b5-ecf4af99d327",
   "metadata": {},
   "outputs": [
    {
     "data": {
      "image/png": "[encoded data removed]",
      "text/plain": [
       "<Figure size 432x216 with 2 Axes>"
      ]
     },
     "metadata": {
      "needs_background": "light"
     },
     "output_type": "display_data"
    }
   ],
   "source": [
    "fig, ax = matplotlib.pyplot.subplots()\n",
    "# fig.set_size_inches(FIG_SIZE)\n",
    "\n",
    "temp = (\n",
    "    df_releases\n",
    "    .sort_values('date', ascending=True)\n",
    "    .drop_duplicates(['owner', 'repo'], keep='first')\n",
    "    .assign(actions=lambda d: range(1, len(d) + 1))\n",
    "    .merge(\n",
    "        df_releases.sort_values('date', ascending=True).assign(releases=lambda d: range(1, len(d) + 1)),\n",
    "        how='right',\n",
    "        on=['owner', 'repo', 'date'],\n",
    "    )\n",
    "    [['date', 'owner', 'repo', 'actions', 'releases']]\n",
    "    .fillna(method='ffill')\n",
    ")\n",
    "\n",
    "(\n",
    "    temp\n",
    "    .set_index('date')\n",
    "    [['actions', 'releases']]\n",
    "    .plot(secondary_y='releases', ax=ax, color=PALETTE)\n",
    ")\n",
    "\n",
    "ax.set(\n",
    "    xlabel=None,\n",
    "    xlim=DATE_RANGE,\n",
    "    ylabel=None\n",
    ")\n",
    "\n",
    "savefig(fig, 'rel_evolution')"
   ]
  },
  {
   "cell_type": "code",
   "execution_count": 68,
   "id": "17725744-5efc-4a9f-9e88-22dda5d4e37d",
   "metadata": {},
   "outputs": [
    {
     "data": {
      "text/plain": [
       "date        2019-11-01 00:39:31\n",
       "owner                 errata-ai\n",
       "repo                vale-action\n",
       "actions                   531.0\n",
       "releases                   2078\n",
       "Name: 2077, dtype: object"
      ]
     },
     "metadata": {},
     "output_type": "display_data"
    },
    {
     "data": {
      "text/plain": [
       "date        2022-08-31 23:37:28\n",
       "owner              jpetrucciani\n",
       "repo                black-check\n",
       "actions                  2811.0\n",
       "releases                  29305\n",
       "Name: 29304, dtype: object"
      ]
     },
     "metadata": {},
     "output_type": "display_data"
    }
   ],
   "source": [
    "display(temp[lambda d: d.date >= DATE_RANGE[0]].iloc[0])\n",
    "display(temp.iloc[-1])"
   ]
  },
  {
   "cell_type": "markdown",
   "id": "0a0e9853-51c7-40de-8e98-50d28303c856",
   "metadata": {},
   "source": [
    "#### Monthly number of releases"
   ]
  },
  {
   "cell_type": "code",
   "execution_count": null,
   "id": "fc5de91b-3133-46a9-83d0-9196735078a4",
   "metadata": {},
   "outputs": [],
   "source": []
  },
  {
   "cell_type": "markdown",
   "id": "f4134beb-c512-42ca-85cc-2677cb4ff676",
   "metadata": {},
   "source": [
    "#### Monthly proportion of Actions being updated"
   ]
  },
  {
   "cell_type": "code",
   "execution_count": 86,
   "id": "4f273ec4-2424-45af-88d8-c2c0684b1e47",
   "metadata": {},
   "outputs": [
    {
     "data": {
      "image/png": "[encoded data removed]",
      "text/plain": [
       "<Figure size 432x216 with 1 Axes>"
      ]
     },
     "metadata": {
      "needs_background": "light"
     },
     "output_type": "display_data"
    }
   ],
   "source": [
    "fig, ax = matplotlib.pyplot.subplots()\n",
    "\n",
    "temp = (\n",
    "    df_releases\n",
    "    .sort_values('date', ascending=True)\n",
    "    .drop_duplicates(['owner', 'repo'], keep='first')\n",
    "    .assign(actions=lambda d: range(1, len(d) + 1))\n",
    "    .groupby(pd.Grouper(key='date', freq='M'))\n",
    "    .agg({'actions': 'max'})\n",
    "    .merge(\n",
    "        df_releases\n",
    "        .assign(repository=lambda d: d.owner + '/' + d.repo)\n",
    "        .groupby(pd.Grouper(key='date', freq='M'))\n",
    "        .agg(updated=('repository', 'nunique')),\n",
    "        how='outer',\n",
    "        left_index=True,\n",
    "        right_index=True,\n",
    "    )\n",
    "    .assign(proportion=lambda d: d['updated'] / d['actions'])\n",
    ")\n",
    "\n",
    "temp[['proportion']].plot(ax=ax, color=PALETTE)\n",
    "\n",
    "ax.set(\n",
    "    xlabel=None,\n",
    "    xlim=DATE_RANGE,\n",
    "    ylim=(0, 0.5), \n",
    "    ylabel='proportion of updated Actions'\n",
    ")\n",
    "ax.legend().remove()\n",
    "\n",
    "savefig(fig, 'rel_prop_updated')"
   ]
  },
  {
   "cell_type": "code",
   "execution_count": 76,
   "id": "5dc7cb21-f0af-4c29-92f2-c1e7dfa48406",
   "metadata": {},
   "outputs": [
    {
     "data": {
      "text/plain": [
       "actions       2811.000000\n",
       "updated        351.000000\n",
       "proportion       0.124867\n",
       "Name: 2022-08-31 00:00:00, dtype: float64"
      ]
     },
     "execution_count": 76,
     "metadata": {},
     "output_type": "execute_result"
    }
   ],
   "source": [
    "temp.iloc[-1]"
   ]
  },
  {
   "cell_type": "markdown",
   "id": "ece429ae-947e-4144-83e6-e26c1be0a419",
   "metadata": {},
   "source": [
    "#### Evolution of the number of repositories using GHA"
   ]
  },
  {
   "cell_type": "code",
   "execution_count": null,
   "id": "48a4a3e0-64b5-46e5-bbfd-f3b515d6a2b4",
   "metadata": {},
   "outputs": [],
   "source": []
  },
  {
   "cell_type": "markdown",
   "id": "541ab618-c0f4-489d-884d-b3ecbea5573a",
   "metadata": {},
   "source": [
    "#### Evolution of the number of workflow updates"
   ]
  },
  {
   "cell_type": "code",
   "execution_count": null,
   "id": "3835e240-f489-4e31-a194-ccf475c95276",
   "metadata": {},
   "outputs": [],
   "source": []
  },
  {
   "cell_type": "markdown",
   "id": "28d64a2d-92e9-4830-8c21-78282b66fb0b",
   "metadata": {},
   "source": [
    "#### Monthly proportion of repositories updating a workflow file"
   ]
  },
  {
   "cell_type": "code",
   "execution_count": null,
   "id": "ccc5f087-f665-4df4-ab01-4718eb545169",
   "metadata": {},
   "outputs": [],
   "source": []
  },
  {
   "cell_type": "markdown",
   "id": "15e659f4-95fb-4fdf-95aa-ae3d91509636",
   "metadata": {},
   "source": [
    "### Release frequency"
   ]
  },
  {
   "cell_type": "markdown",
   "id": "b4b41352-0c73-49b5-9a62-b9df2d214a86",
   "metadata": {},
   "source": [
    "#### Distribution of the number of releases"
   ]
  },
  {
   "cell_type": "code",
   "execution_count": null,
   "id": "c9ba4e96-5fd4-48d9-9b0b-7354e04fc748",
   "metadata": {},
   "outputs": [],
   "source": []
  },
  {
   "cell_type": "markdown",
   "id": "988b2e42-3de4-4830-bac7-fb54b226b146",
   "metadata": {},
   "source": [
    "#### Distribution of the time since last update"
   ]
  },
  {
   "cell_type": "code",
   "execution_count": null,
   "id": "5fd92e3f-74a8-4b88-ab87-c5b1a4aa5b4b",
   "metadata": {},
   "outputs": [],
   "source": []
  },
  {
   "cell_type": "markdown",
   "id": "34be69f2-67f2-4146-a71c-3910d6f790a9",
   "metadata": {},
   "source": [
    "#### Evolution of the time since last update"
   ]
  },
  {
   "cell_type": "code",
   "execution_count": null,
   "id": "e7464cf2-101a-4960-ba2f-48ec648ecfd1",
   "metadata": {},
   "outputs": [],
   "source": []
  }
 ],
 "metadata": {
  "kernelspec": {
   "display_name": "Python 3 (ipykernel)",
   "language": "python",
   "name": "python3"
  },
  "language_info": {
   "codemirror_mode": {
    "name": "ipython",
    "version": 3
   },
   "file_extension": ".py",
   "mimetype": "text/x-python",
   "name": "python",
   "nbconvert_exporter": "python",
   "pygments_lexer": "ipython3",
   "version": "3.9.2"
  },
  "toc-autonumbering": false,
  "toc-showcode": false,
  "toc-showmarkdowntxt": false,
  "toc-showtags": false
 },
 "nbformat": 4,
 "nbformat_minor": 5
}
