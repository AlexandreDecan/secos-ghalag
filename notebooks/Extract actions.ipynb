{
 "cells": [
  {
   "cell_type": "markdown",
   "id": "98215094-5ad9-43c9-9d7b-d8d5462cc469",
   "metadata": {},
   "source": [
    "This notebook queries the GitHub Marketplace pages to retrieve metadata about the actions used in workflows. It requires `data/steps.csv` and generates `data/actions.csv`. "
   ]
  },
  {
   "cell_type": "code",
   "execution_count": 1,
   "id": "e394d351-6ee0-444c-a197-4c625a2228d2",
   "metadata": {},
   "outputs": [],
   "source": [
    "import pandas as pd\n",
    "import requests\n",
    "from tqdm import tqdm \n",
    "\n",
    "from bs4 import BeautifulSoup\n",
    "\n",
    "from functools import partial"
   ]
  },
  {
   "cell_type": "code",
   "execution_count": 2,
   "id": "d4783f7c-6f1b-4dfd-9629-a94b40168a28",
   "metadata": {},
   "outputs": [],
   "source": [
    "GH_URL = 'https://github.com/marketplace/actions/{action}'\n",
    "\n",
    "# Path to get the name of the action. Text content\n",
    "NAME_PATH = 'h1.f1'\n",
    "# Function to get the repository name\n",
    "REPO_PATH = lambda s: s.find('h5', text='Links').find_next_sibling('a').text.strip()\n",
    "# Path to get a list of categories. Text content (one or two items)\n",
    "CATEGORY_PATH = '.topic-tag'\n",
    "# Path to get the number of stars. Text content\n",
    "STARS_PATH = '.js-social-count'\n",
    "# Path to get versions. Text content (multiple items)\n",
    "VERSION_PATH = '.select-menu-item-heading'"
   ]
  },
  {
   "cell_type": "markdown",
   "id": "4c4b653c-ebb5-4145-b079-aacfa8258dda",
   "metadata": {},
   "source": [
    "Prepare the list of potential action names that will be retrived from the marketplace. "
   ]
  },
  {
   "cell_type": "code",
   "execution_count": 3,
   "id": "71142242-97dc-47f0-a13f-4ef3bb61b73f",
   "metadata": {},
   "outputs": [],
   "source": [
    "actions = (\n",
    "    pd.read_csv('../data/steps.csv.gz')\n",
    "    .drop_duplicates('uses')\n",
    "    [lambda d: ~d.uses.isnull()]\n",
    "    [lambda d: ~d.uses.str.startswith(('docker://', './'))]\n",
    "    .assign(action=lambda d: d.uses.str.split('/', n=1).str[1])\n",
    "    .assign(action=lambda d: d.action.str.split('@', n=1).str[0])\n",
    "    .action\n",
    "    .drop_duplicates()\n",
    "    .values\n",
    ")"
   ]
  },
  {
   "cell_type": "code",
   "execution_count": 4,
   "id": "f394d5d6-1ba0-4ebf-8867-4f0d40d055c7",
   "metadata": {},
   "outputs": [],
   "source": [
    "def extract_html(action):\n",
    "    # Check file exists\n",
    "    r = requests.get(GH_URL.format(action=action))\n",
    "    if r.status_code == 404:\n",
    "        return None\n",
    "    \n",
    "    output = dict()\n",
    "    soup = BeautifulSoup(r.text, 'html.parser')\n",
    "    \n",
    "    output['action'] = action\n",
    "    output['name'] = soup.select(NAME_PATH)[0].text\n",
    "    output['repository'] = REPO_PATH(soup)\n",
    "    \n",
    "    categories = soup.select(CATEGORY_PATH)\n",
    "    output['category'] = categories[0].text.strip() if len(categories) > 0 else None\n",
    "    output['category_secondary'] = categories[1].text.strip() if len(categories) == 2 else None\n",
    "    \n",
    "    stars = soup.select(STARS_PATH)[0]['title']\n",
    "    output['stars'] = int(''.join(d for d in stars if d.isdigit())) if len(stars) > 0 else 0\n",
    "    \n",
    "    output['versions'] = [e.text for e in soup.select(VERSION_PATH)]\n",
    "    \n",
    "    return output"
   ]
  },
  {
   "cell_type": "code",
   "execution_count": 5,
   "id": "a3cc3268-d591-4a8a-818c-183d2f57cf25",
   "metadata": {},
   "outputs": [],
   "source": [
    "output = []\n",
    "done = []"
   ]
  },
  {
   "cell_type": "code",
   "execution_count": 6,
   "id": "b694df51-6538-4c5f-bfdf-23fc725bcf16",
   "metadata": {},
   "outputs": [
    {
     "name": "stderr",
     "output_type": "stream",
     "text": [
      "100%|███████████████████████████████████████| 3828/3828 [16:59<00:00,  3.75it/s]\n"
     ]
    }
   ],
   "source": [
    "inputs = [a for a in actions if a not in done]\n",
    "\n",
    "for action in tqdm(inputs):\n",
    "    result = extract_html(action)\n",
    "    \n",
    "    if result is not None:\n",
    "        output.append(result)\n",
    "    \n",
    "    done.append(action)"
   ]
  },
  {
   "cell_type": "code",
   "execution_count": 7,
   "id": "f3a26443-07c2-499d-8a67-a6c33f82a5b2",
   "metadata": {},
   "outputs": [
    {
     "name": "stdout",
     "output_type": "stream",
     "text": [
      "1011 actions found out of 3828.\n"
     ]
    }
   ],
   "source": [
    "print(f'{len(output)} actions found out of {len(actions)}.')"
   ]
  },
  {
   "cell_type": "code",
   "execution_count": 8,
   "id": "71603bd3-a240-44e5-b9a5-68a7c2a185c4",
   "metadata": {},
   "outputs": [],
   "source": [
    "df_actions = (\n",
    "    pd.DataFrame(output)\n",
    "    .set_index('action')\n",
    "    [['name', 'repository', 'category', 'category_secondary', 'stars', 'versions']]\n",
    ")"
   ]
  },
  {
   "cell_type": "code",
   "execution_count": 9,
   "id": "f3a1e46b-0e36-4c4b-bb04-56248c931498",
   "metadata": {},
   "outputs": [],
   "source": [
    "df_actions.to_csv('../data/actions.csv.gz', compression='gzip')"
   ]
  }
 ],
 "metadata": {
  "kernelspec": {
   "display_name": "Python 3 (ipykernel)",
   "language": "python",
   "name": "python3"
  },
  "language_info": {
   "codemirror_mode": {
    "name": "ipython",
    "version": 3
   },
   "file_extension": ".py",
   "mimetype": "text/x-python",
   "name": "python",
   "nbconvert_exporter": "python",
   "pygments_lexer": "ipython3",
   "version": "3.9.2"
  }
 },
 "nbformat": 4,
 "nbformat_minor": 5
}
