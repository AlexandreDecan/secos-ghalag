{
 "cells": [
  {
   "cell_type": "code",
   "execution_count": 1,
   "id": "419cf1af-b6fa-4d38-9a8b-17670c430bda",
   "metadata": {},
   "outputs": [],
   "source": [
    "import pandas as pd\n",
    "import numpy as np\n",
    "import matplotlib\n",
    "import matplotlib.pyplot\n",
    "import seaborn"
   ]
  },
  {
   "cell_type": "code",
   "execution_count": 2,
   "id": "ae50268a-067d-4a47-b14a-943cc0429a2b",
   "metadata": {},
   "outputs": [],
   "source": [
    "FIG_SIZE = (7, 3)\n",
    "\n",
    "PALETTE = seaborn.color_palette()\n",
    "DATE_RANGE = pd.to_datetime('2019-11-01'), pd.to_datetime('2022-09-30')\n",
    "\n",
    "matplotlib.rcParams['figure.figsize'] = FIG_SIZE\n",
    "# matplotlib.rcParams['legend.framealpha'] = 1\n",
    "matplotlib.rcParams['text.latex.preamble'] = r'\\usepackage{amsmath}'\n",
    "\n",
    "SAVEFIG = True\n",
    "\n",
    "def _savefig(fig, name):\n",
    "    import os\n",
    "    fig.savefig(\n",
    "        os.path.join('..', 'figures', '{}.pdf'.format(name)),\n",
    "        bbox_inches='tight'\n",
    "    )\n",
    "    \n",
    "savefig = _savefig if SAVEFIG else lambda x, y: None"
   ]
  },
  {
   "cell_type": "markdown",
   "id": "82fe9ec4-0cf2-4130-8946-f30e85d16812",
   "metadata": {},
   "source": [
    "## Load Data"
   ]
  },
  {
   "cell_type": "code",
   "execution_count": 3,
   "id": "a1950b0d-32ea-49b7-8fa1-05c72a6be8c6",
   "metadata": {},
   "outputs": [],
   "source": [
    "df_repo = (\n",
    "    pd.read_csv('../data/workflow_files.csv.gz')\n",
    "    .assign(date=lambda d: pd.to_datetime(d.date))\n",
    ")"
   ]
  },
  {
   "cell_type": "code",
   "execution_count": 4,
   "id": "1f74ced8-2287-475f-be94-64b81bcc7a5c",
   "metadata": {},
   "outputs": [],
   "source": [
    "df_steps = (\n",
    "    pd.read_csv('../data/steps.csv.gz')\n",
    ")"
   ]
  },
  {
   "cell_type": "markdown",
   "id": "9570b12d-1a2a-488a-b1ba-2f89f6ef845c",
   "metadata": {},
   "source": [
    "## Some numbers..."
   ]
  },
  {
   "cell_type": "code",
   "execution_count": 5,
   "id": "465ecf77-6605-46e7-925b-e5b805657929",
   "metadata": {},
   "outputs": [
    {
     "name": "stdout",
     "output_type": "stream",
     "text": [
      "There are 22758 repositories\n",
      "There are 203552 distinct workflows\n",
      "There are 2319902 unique steps\n"
     ]
    }
   ],
   "source": [
    "print('There are', df_repo.repository.nunique(), 'repositories')\n",
    "print('There are', df_repo.workflow.nunique(), 'distinct workflows')\n",
    "print('There are', len(df_steps), 'unique steps')"
   ]
  },
  {
   "cell_type": "code",
   "execution_count": 6,
   "id": "1bb7a05b-e5de-44f1-9654-50f08ebe24ab",
   "metadata": {},
   "outputs": [
    {
     "name": "stdout",
     "output_type": "stream",
     "text": [
      "There are 979591 workflows\n",
      "There are 7927295.0 steps\n"
     ]
    }
   ],
   "source": [
    "_ = (\n",
    "    df_repo\n",
    "    .merge(\n",
    "        df_steps\n",
    "        .groupby('workflow', as_index=False)\n",
    "        .agg(steps=('pos', 'count')),\n",
    "        how='left',\n",
    "        on='workflow'\n",
    "    )\n",
    ")\n",
    "print('There are', len(_.drop_duplicates(['repository', 'date', 'filename'])), 'workflows')\n",
    "print('There are', _.steps.sum(), 'steps')"
   ]
  },
  {
   "cell_type": "markdown",
   "id": "5d400404-6f23-4703-9dce-d9e78cc248a3",
   "metadata": {},
   "source": [
    "## Number of repositories, workflows and steps through time"
   ]
  },
  {
   "cell_type": "code",
   "execution_count": 7,
   "id": "17fed633-d98f-4918-ab1d-e66300101ec8",
   "metadata": {},
   "outputs": [
    {
     "data": {
      "image/png": "[encoded data removed]",
      "text/plain": [
       "<Figure size 504x216 with 2 Axes>"
      ]
     },
     "metadata": {
      "needs_background": "light"
     },
     "output_type": "display_data"
    }
   ],
   "source": [
    "fig, ax = matplotlib.pyplot.subplots()\n",
    "\n",
    "temp = pd.concat([\n",
    "    df_repo\n",
    "    .groupby(pd.Grouper(key='date', freq='M'))\n",
    "    .agg(repositories=('repository', 'nunique'))\n",
    "    ,\n",
    "    df_repo\n",
    "    .groupby(['repository', 'date'], sort=False, as_index=False)\n",
    "    .agg(workflows=('filename', 'nunique'))\n",
    "    .groupby(pd.Grouper(key='date', freq='M'))\n",
    "    .agg(workflows=('workflows', 'sum'))\n",
    "    ,\n",
    "    df_steps\n",
    "    .groupby('workflow', as_index=False, sort=False)\n",
    "    .agg(steps=('name', 'count'))\n",
    "    .merge(\n",
    "        df_repo[['repository', 'date', 'workflow']],\n",
    "        how='right',\n",
    "        on='workflow',\n",
    "    )\n",
    "    .groupby(pd.Grouper(key='date', freq='M'))\n",
    "    .agg(steps=('steps', 'sum'))\n",
    "], axis=1)\n",
    "\n",
    "temp[['repositories', 'workflows']].plot(ax=ax)\n",
    "ax2 = temp[['steps']].plot(ax=ax, secondary_y=True)\n",
    "ax2.set(ylim=(0, 400000))\n",
    "\n",
    "ax.legend(loc='upper left')\n",
    "ax2.legend(loc='upper right')\n",
    "\n",
    "ax.set(\n",
    "    xlabel=None,\n",
    "    xlim=DATE_RANGE,\n",
    "    ylabel=None,\n",
    "    ylim=(0, 80000),\n",
    ")\n",
    "\n",
    "savefig(fig, 'overview_repo_workflow_steps')"
   ]
  },
  {
   "cell_type": "code",
   "execution_count": 8,
   "id": "2611599a-5fe3-48ad-994c-ca34c69f94c5",
   "metadata": {},
   "outputs": [
    {
     "data": {
      "text/plain": [
       "repositories     22756.0\n",
       "workflows        53801.0\n",
       "steps           330186.0\n",
       "Name: 2022-09-30 00:00:00, dtype: float64"
      ]
     },
     "metadata": {},
     "output_type": "display_data"
    }
   ],
   "source": [
    "display(temp.iloc[-1])"
   ]
  },
  {
   "cell_type": "markdown",
   "id": "b079a0a8-90e2-4e6d-803f-65a3d3064a89",
   "metadata": {},
   "source": [
    "## Proportion of repositories and steps relying on an Action"
   ]
  },
  {
   "cell_type": "code",
   "execution_count": 9,
   "id": "ef5d8108-06ff-46ea-a2a9-8c094af8738d",
   "metadata": {},
   "outputs": [
    {
     "data": {
      "image/png": "[encoded data removed]",
      "text/plain": [
       "<Figure size 504x216 with 1 Axes>"
      ]
     },
     "metadata": {
      "needs_background": "light"
     },
     "output_type": "display_data"
    }
   ],
   "source": [
    "fig, ax = matplotlib.pyplot.subplots()\n",
    "\n",
    "_ = (\n",
    "    df_steps\n",
    "    [['workflow', 'uses']]\n",
    "    [lambda d: ~d.uses.isnull()]\n",
    "    [lambda d: ~d.uses.str.startswith(('docker://', './', 'http'))]\n",
    "    [lambda d: d.uses.str.count('/') == 1]\n",
    "    .groupby('workflow', as_index=False, sort=False)\n",
    "    .agg(steps=('uses', 'count'))\n",
    "    .merge(\n",
    "        df_repo[['repository', 'date', 'workflow']],\n",
    "        how='left',\n",
    "        on='workflow',\n",
    "    )\n",
    "    .groupby(pd.Grouper(key='date', freq='M'))\n",
    "    .agg(repositories=('repository', 'nunique'), workflows=('workflow', 'count'), steps=('steps', 'sum'))\n",
    "    .assign(repositories=lambda d: d.repositories / temp.repositories)\n",
    "    .assign(workflows=lambda d: d.workflows / temp.workflows)\n",
    "    .assign(steps=lambda d: d.steps / temp.steps)\n",
    ")\n",
    "\n",
    "_.plot(ax=ax)\n",
    "\n",
    "ax.legend(loc='lower center', ncol=3)\n",
    "\n",
    "ax.set(\n",
    "    xlabel=None,\n",
    "    xlim=DATE_RANGE,\n",
    "    ylabel='proportion',\n",
    "    ylim=(0.5, 1)\n",
    ")\n",
    "\n",
    "savefig(fig, 'overview_prop_relying_on_actions')"
   ]
  },
  {
   "cell_type": "code",
   "execution_count": 10,
   "id": "84510ce7-75fa-412b-97e7-6a4c9a4f4add",
   "metadata": {},
   "outputs": [
    {
     "data": {
      "text/html": [
       "<div>\n",
       "<style scoped>\n",
       "    .dataframe tbody tr th:only-of-type {\n",
       "        vertical-align: middle;\n",
       "    }\n",
       "\n",
       "    .dataframe tbody tr th {\n",
       "        vertical-align: top;\n",
       "    }\n",
       "\n",
       "    .dataframe thead th {\n",
       "        text-align: right;\n",
       "    }\n",
       "</style>\n",
       "<table border=\"1\" class=\"dataframe\">\n",
       "  <thead>\n",
       "    <tr style=\"text-align: right;\">\n",
       "      <th></th>\n",
       "      <th>count</th>\n",
       "      <th>mean</th>\n",
       "      <th>std</th>\n",
       "      <th>min</th>\n",
       "      <th>25%</th>\n",
       "      <th>50%</th>\n",
       "      <th>75%</th>\n",
       "      <th>max</th>\n",
       "    </tr>\n",
       "  </thead>\n",
       "  <tbody>\n",
       "    <tr>\n",
       "      <th>repositories</th>\n",
       "      <td>35.0</td>\n",
       "      <td>0.995252</td>\n",
       "      <td>0.001699</td>\n",
       "      <td>0.991563</td>\n",
       "      <td>0.994480</td>\n",
       "      <td>0.995561</td>\n",
       "      <td>0.996784</td>\n",
       "      <td>0.997013</td>\n",
       "    </tr>\n",
       "    <tr>\n",
       "      <th>workflows</th>\n",
       "      <td>35.0</td>\n",
       "      <td>0.983081</td>\n",
       "      <td>0.006297</td>\n",
       "      <td>0.969090</td>\n",
       "      <td>0.978441</td>\n",
       "      <td>0.985187</td>\n",
       "      <td>0.988049</td>\n",
       "      <td>0.990996</td>\n",
       "    </tr>\n",
       "    <tr>\n",
       "      <th>steps</th>\n",
       "      <td>35.0</td>\n",
       "      <td>0.634102</td>\n",
       "      <td>0.007659</td>\n",
       "      <td>0.616878</td>\n",
       "      <td>0.630889</td>\n",
       "      <td>0.636060</td>\n",
       "      <td>0.639646</td>\n",
       "      <td>0.643317</td>\n",
       "    </tr>\n",
       "  </tbody>\n",
       "</table>\n",
       "</div>"
      ],
      "text/plain": [
       "              count      mean       std       min       25%       50%  \\\n",
       "repositories   35.0  0.995252  0.001699  0.991563  0.994480  0.995561   \n",
       "workflows      35.0  0.983081  0.006297  0.969090  0.978441  0.985187   \n",
       "steps          35.0  0.634102  0.007659  0.616878  0.630889  0.636060   \n",
       "\n",
       "                   75%       max  \n",
       "repositories  0.996784  0.997013  \n",
       "workflows     0.988049  0.990996  \n",
       "steps         0.639646  0.643317  "
      ]
     },
     "metadata": {},
     "output_type": "display_data"
    },
    {
     "data": {
      "text/plain": [
       "repositories    0.991563\n",
       "workflows       0.969090\n",
       "steps           0.643159\n",
       "Name: 2022-09-30 00:00:00, dtype: float64"
      ]
     },
     "metadata": {},
     "output_type": "display_data"
    }
   ],
   "source": [
    "display(_.describe().T)\n",
    "display(_.iloc[-1])"
   ]
  },
  {
   "cell_type": "markdown",
   "id": "34f07e58-3bd3-463a-807a-9771867d3aa6",
   "metadata": {},
   "source": [
    "## Number of distinct Actions relied on"
   ]
  },
  {
   "cell_type": "code",
   "execution_count": 11,
   "id": "c8fedf45-23e2-418f-b8c1-03d3b617c697",
   "metadata": {},
   "outputs": [
    {
     "data": {
      "image/png": "[encoded data removed]",
      "text/plain": [
       "<Figure size 504x216 with 1 Axes>"
      ]
     },
     "metadata": {
      "needs_background": "light"
     },
     "output_type": "display_data"
    }
   ],
   "source": [
    "fig, ax = matplotlib.pyplot.subplots()\n",
    "\n",
    "temp = (\n",
    "    df_steps\n",
    "    [['workflow', 'uses']]\n",
    "    [lambda d: ~d.uses.isnull()]\n",
    "    [lambda d: ~d.uses.str.startswith(('docker://', './', 'http'))]\n",
    "    [lambda d: d.uses.str.count('/') == 1]\n",
    "    .assign(action=lambda d: d.uses.str.split('@', n=1).str[0].str.lower())\n",
    "    .assign(provider=lambda d: d.uses.str.split('/', n=1).str[0].str.lower())\n",
    "    .merge(\n",
    "        df_repo[['repository', 'date', 'workflow']],\n",
    "        how='left',\n",
    "        on='workflow',\n",
    "    )\n",
    "    .set_index('date')\n",
    "    .sort_index()\n",
    "    .assign(actions=lambda d: (~d.action.duplicated()).cumsum())\n",
    "    .assign(providers=lambda d: (~d.provider.duplicated()).cumsum())\n",
    "    # To avoid a \"stairs\" effect on the graph\n",
    "    .groupby(pd.Grouper(level=0, freq='M'))\n",
    "    .agg({'actions': 'max', 'providers': 'max'})\n",
    ")\n",
    "\n",
    "temp[['actions', 'providers']].plot(ax=ax)\n",
    "\n",
    "ax.set(\n",
    "    xlabel=None,\n",
    "    xlim=DATE_RANGE,\n",
    "    ylim=(0, 4000),\n",
    ")\n",
    "\n",
    "savefig(fig, 'overview_nb_distinct_actions')"
   ]
  },
  {
   "cell_type": "code",
   "execution_count": 12,
   "id": "4f76e68f-202f-4c10-8b7c-aab299030022",
   "metadata": {},
   "outputs": [
    {
     "data": {
      "text/html": [
       "<div>\n",
       "<style scoped>\n",
       "    .dataframe tbody tr th:only-of-type {\n",
       "        vertical-align: middle;\n",
       "    }\n",
       "\n",
       "    .dataframe tbody tr th {\n",
       "        vertical-align: top;\n",
       "    }\n",
       "\n",
       "    .dataframe thead th {\n",
       "        text-align: right;\n",
       "    }\n",
       "</style>\n",
       "<table border=\"1\" class=\"dataframe\">\n",
       "  <thead>\n",
       "    <tr style=\"text-align: right;\">\n",
       "      <th></th>\n",
       "      <th>count</th>\n",
       "      <th>mean</th>\n",
       "      <th>std</th>\n",
       "      <th>min</th>\n",
       "      <th>25%</th>\n",
       "      <th>50%</th>\n",
       "      <th>75%</th>\n",
       "      <th>max</th>\n",
       "    </tr>\n",
       "  </thead>\n",
       "  <tbody>\n",
       "    <tr>\n",
       "      <th>actions</th>\n",
       "      <td>35.0</td>\n",
       "      <td>1994.800000</td>\n",
       "      <td>1037.910140</td>\n",
       "      <td>189.0</td>\n",
       "      <td>1132.5</td>\n",
       "      <td>2134.0</td>\n",
       "      <td>2880.5</td>\n",
       "      <td>3519.0</td>\n",
       "    </tr>\n",
       "    <tr>\n",
       "      <th>providers</th>\n",
       "      <td>35.0</td>\n",
       "      <td>1403.914286</td>\n",
       "      <td>716.323964</td>\n",
       "      <td>135.0</td>\n",
       "      <td>814.5</td>\n",
       "      <td>1511.0</td>\n",
       "      <td>2011.0</td>\n",
       "      <td>2442.0</td>\n",
       "    </tr>\n",
       "  </tbody>\n",
       "</table>\n",
       "</div>"
      ],
      "text/plain": [
       "           count         mean          std    min     25%     50%     75%  \\\n",
       "actions     35.0  1994.800000  1037.910140  189.0  1132.5  2134.0  2880.5   \n",
       "providers   35.0  1403.914286   716.323964  135.0   814.5  1511.0  2011.0   \n",
       "\n",
       "              max  \n",
       "actions    3519.0  \n",
       "providers  2442.0  "
      ]
     },
     "metadata": {},
     "output_type": "display_data"
    },
    {
     "data": {
      "text/plain": [
       "actions      3519\n",
       "providers    2442\n",
       "Name: 2022-09-30 00:00:00, dtype: int64"
      ]
     },
     "metadata": {},
     "output_type": "display_data"
    }
   ],
   "source": [
    "display(temp.describe().T)\n",
    "display(temp.iloc[-1])"
   ]
  },
  {
   "cell_type": "markdown",
   "id": "2803a68f-7d27-4ebc-956c-c2c300ee2953",
   "metadata": {},
   "source": [
    "### Reuse concentration (last snapshot), inverted Lorenz curve"
   ]
  },
  {
   "cell_type": "code",
   "execution_count": 13,
   "id": "be173def-0c01-49ca-825e-e760da60f073",
   "metadata": {},
   "outputs": [
    {
     "data": {
      "image/png": "[encoded data removed]",
      "text/plain": [
       "<Figure size 504x216 with 1 Axes>"
      ]
     },
     "metadata": {
      "needs_background": "light"
     },
     "output_type": "display_data"
    }
   ],
   "source": [
    "fig, ax = matplotlib.pyplot.subplots()\n",
    "\n",
    "temp = (\n",
    "    df_repo[['repository', 'date', 'workflow']]\n",
    "    # Latest snapshot\n",
    "    [lambda d: d.date == d.date.max()]\n",
    "    .merge(\n",
    "        df_steps[['workflow', 'uses']],\n",
    "        how='left', \n",
    "        on='workflow',\n",
    "    )\n",
    "    [lambda d: ~d.uses.isnull()]\n",
    "    [lambda d: ~d.uses.str.startswith(('docker://', './', 'http'))]\n",
    "    [lambda d: d.uses.str.count('/') == 1]\n",
    "    .assign(action=lambda d: d.uses.str.split('@', n=1).str[0].str.lower())\n",
    "    .groupby('action', as_index=False, sort=False)\n",
    "    .agg(steps=('uses', 'count'))\n",
    "    .sort_values('steps', ascending=False)\n",
    "    .assign(actions=1)\n",
    "    .assign(\n",
    "        steps=lambda d: d.steps.cumsum() / d.steps.sum(),\n",
    "        actions=lambda d: d.actions.cumsum() / d.actions.sum(),\n",
    "    )\n",
    ")\n",
    "\n",
    "temp.set_index('actions').plot(ax=ax, color=PALETTE[0])\n",
    "\n",
    "ax.legend().remove()\n",
    "ax.set(\n",
    "    xlabel='cumulative proportion of Actions',\n",
    "    xlim=(0, 1),\n",
    "    ylabel='cumulative proportion of steps', \n",
    "    ylim=(0, 1), \n",
    ")\n",
    "\n",
    "ax.add_patch(matplotlib.patches.Rectangle((0, 0.8), 0.2, 0.4, facecolor='k', alpha=0.05))\n",
    "\n",
    "ax2 = ax.inset_axes([0.5,0.15,0.4,0.7])\n",
    "temp.set_index('actions').plot(ax=ax2, color=PALETTE[0])\n",
    "ax2.set(xlabel=None, ylabel=None, xlim=(0, 0.4), ylim=(0.8, 1), title='zoom on [0, 0.4]')\n",
    "ax2.legend().remove()\n",
    "\n",
    "savefig(fig, 'overview_reuse_concentration')"
   ]
  },
  {
   "cell_type": "code",
   "execution_count": 14,
   "id": "7074e026-d486-41dc-85dc-cede80ce4302",
   "metadata": {},
   "outputs": [
    {
     "data": {
      "text/html": [
       "<div>\n",
       "<style scoped>\n",
       "    .dataframe tbody tr th:only-of-type {\n",
       "        vertical-align: middle;\n",
       "    }\n",
       "\n",
       "    .dataframe tbody tr th {\n",
       "        vertical-align: top;\n",
       "    }\n",
       "\n",
       "    .dataframe thead th {\n",
       "        text-align: right;\n",
       "    }\n",
       "</style>\n",
       "<table border=\"1\" class=\"dataframe\">\n",
       "  <thead>\n",
       "    <tr style=\"text-align: right;\">\n",
       "      <th></th>\n",
       "      <th>steps</th>\n",
       "      <th>actions</th>\n",
       "    </tr>\n",
       "    <tr>\n",
       "      <th>action</th>\n",
       "      <th></th>\n",
       "      <th></th>\n",
       "    </tr>\n",
       "  </thead>\n",
       "  <tbody>\n",
       "    <tr>\n",
       "      <th>actions/checkout</th>\n",
       "      <td>0.360206</td>\n",
       "      <td>0.000341</td>\n",
       "    </tr>\n",
       "    <tr>\n",
       "      <th>actions/cache</th>\n",
       "      <td>0.426051</td>\n",
       "      <td>0.000683</td>\n",
       "    </tr>\n",
       "    <tr>\n",
       "      <th>actions/upload-artifact</th>\n",
       "      <td>0.486170</td>\n",
       "      <td>0.001024</td>\n",
       "    </tr>\n",
       "    <tr>\n",
       "      <th>actions/setup-node</th>\n",
       "      <td>0.539659</td>\n",
       "      <td>0.001365</td>\n",
       "    </tr>\n",
       "    <tr>\n",
       "      <th>actions/setup-python</th>\n",
       "      <td>0.592418</td>\n",
       "      <td>0.001706</td>\n",
       "    </tr>\n",
       "    <tr>\n",
       "      <th>actions/setup-go</th>\n",
       "      <td>0.617742</td>\n",
       "      <td>0.002048</td>\n",
       "    </tr>\n",
       "    <tr>\n",
       "      <th>actions/setup-java</th>\n",
       "      <td>0.642898</td>\n",
       "      <td>0.002389</td>\n",
       "    </tr>\n",
       "    <tr>\n",
       "      <th>actions/download-artifact</th>\n",
       "      <td>0.665128</td>\n",
       "      <td>0.002730</td>\n",
       "    </tr>\n",
       "    <tr>\n",
       "      <th>actions-rs/toolchain</th>\n",
       "      <td>0.682947</td>\n",
       "      <td>0.003072</td>\n",
       "    </tr>\n",
       "    <tr>\n",
       "      <th>actions-rs/cargo</th>\n",
       "      <td>0.697003</td>\n",
       "      <td>0.003413</td>\n",
       "    </tr>\n",
       "    <tr>\n",
       "      <th>codecov/codecov-action</th>\n",
       "      <td>0.709647</td>\n",
       "      <td>0.003754</td>\n",
       "    </tr>\n",
       "    <tr>\n",
       "      <th>docker/login-action</th>\n",
       "      <td>0.721739</td>\n",
       "      <td>0.004096</td>\n",
       "    </tr>\n",
       "    <tr>\n",
       "      <th>docker/build-push-action</th>\n",
       "      <td>0.733733</td>\n",
       "      <td>0.004437</td>\n",
       "    </tr>\n",
       "    <tr>\n",
       "      <th>shivammathur/setup-php</th>\n",
       "      <td>0.743556</td>\n",
       "      <td>0.004778</td>\n",
       "    </tr>\n",
       "    <tr>\n",
       "      <th>docker/setup-buildx-action</th>\n",
       "      <td>0.753115</td>\n",
       "      <td>0.005119</td>\n",
       "    </tr>\n",
       "    <tr>\n",
       "      <th>actions/setup-dotnet</th>\n",
       "      <td>0.762029</td>\n",
       "      <td>0.005461</td>\n",
       "    </tr>\n",
       "    <tr>\n",
       "      <th>ruby/setup-ruby</th>\n",
       "      <td>0.770477</td>\n",
       "      <td>0.005802</td>\n",
       "    </tr>\n",
       "    <tr>\n",
       "      <th>actions/upload-release-asset</th>\n",
       "      <td>0.778755</td>\n",
       "      <td>0.006143</td>\n",
       "    </tr>\n",
       "    <tr>\n",
       "      <th>docker/setup-qemu-action</th>\n",
       "      <td>0.785899</td>\n",
       "      <td>0.006485</td>\n",
       "    </tr>\n",
       "    <tr>\n",
       "      <th>softprops/action-gh-release</th>\n",
       "      <td>0.790791</td>\n",
       "      <td>0.006826</td>\n",
       "    </tr>\n",
       "    <tr>\n",
       "      <th>actions/github-script</th>\n",
       "      <td>0.795128</td>\n",
       "      <td>0.007167</td>\n",
       "    </tr>\n",
       "    <tr>\n",
       "      <th>actions/create-release</th>\n",
       "      <td>0.799427</td>\n",
       "      <td>0.007509</td>\n",
       "    </tr>\n",
       "    <tr>\n",
       "      <th>swatinem/rust-cache</th>\n",
       "      <td>0.803246</td>\n",
       "      <td>0.007850</td>\n",
       "    </tr>\n",
       "    <tr>\n",
       "      <th>actions/stale</th>\n",
       "      <td>0.806938</td>\n",
       "      <td>0.008191</td>\n",
       "    </tr>\n",
       "  </tbody>\n",
       "</table>\n",
       "</div>"
      ],
      "text/plain": [
       "                                 steps   actions\n",
       "action                                          \n",
       "actions/checkout              0.360206  0.000341\n",
       "actions/cache                 0.426051  0.000683\n",
       "actions/upload-artifact       0.486170  0.001024\n",
       "actions/setup-node            0.539659  0.001365\n",
       "actions/setup-python          0.592418  0.001706\n",
       "actions/setup-go              0.617742  0.002048\n",
       "actions/setup-java            0.642898  0.002389\n",
       "actions/download-artifact     0.665128  0.002730\n",
       "actions-rs/toolchain          0.682947  0.003072\n",
       "actions-rs/cargo              0.697003  0.003413\n",
       "codecov/codecov-action        0.709647  0.003754\n",
       "docker/login-action           0.721739  0.004096\n",
       "docker/build-push-action      0.733733  0.004437\n",
       "shivammathur/setup-php        0.743556  0.004778\n",
       "docker/setup-buildx-action    0.753115  0.005119\n",
       "actions/setup-dotnet          0.762029  0.005461\n",
       "ruby/setup-ruby               0.770477  0.005802\n",
       "actions/upload-release-asset  0.778755  0.006143\n",
       "docker/setup-qemu-action      0.785899  0.006485\n",
       "softprops/action-gh-release   0.790791  0.006826\n",
       "actions/github-script         0.795128  0.007167\n",
       "actions/create-release        0.799427  0.007509\n",
       "swatinem/rust-cache           0.803246  0.007850\n",
       "actions/stale                 0.806938  0.008191"
      ]
     },
     "execution_count": 14,
     "metadata": {},
     "output_type": "execute_result"
    }
   ],
   "source": [
    "temp.set_index('action').query('steps <= 0.81')"
   ]
  },
  {
   "cell_type": "markdown",
   "id": "d483afa5-c42c-423b-b4e1-90a9628d2566",
   "metadata": {},
   "source": [
    "### Specific case for `actions/*`\n",
    "\n",
    "GitHub distributes the most widely used Actions, such as `checkout` or the various `setup-*`. We made an analysis in the `Technical lag` notebook to quantify the extent to which repositories and steps rely on Actions provided by GitHub. Here we do the same analysis, but considering all steps we have in the dataset (not only those for which we could compute the lags)."
   ]
  },
  {
   "cell_type": "code",
   "execution_count": 15,
   "id": "060320bf-7b22-4844-a68f-123a8abc7f2b",
   "metadata": {},
   "outputs": [
    {
     "data": {
      "image/png": "[encoded data removed]",
      "text/plain": [
       "<Figure size 504x216 with 1 Axes>"
      ]
     },
     "metadata": {
      "needs_background": "light"
     },
     "output_type": "display_data"
    }
   ],
   "source": [
    "fig, ax = matplotlib.pyplot.subplots()\n",
    "\n",
    "temp = (\n",
    "    df_steps\n",
    "    [['workflow', 'uses']]\n",
    "    [lambda d: ~d.uses.isnull()]\n",
    "    [lambda d: ~d.uses.str.startswith(('docker://', './', 'http'))]\n",
    "    [lambda d: d.uses.str.count('/') == 1]\n",
    "    .assign(action=lambda d: d.uses.str.split('@', n=1).str[0].str.lower())\n",
    "    .assign(provider=lambda d: d.uses.str.split('/', n=1).str[0].str.lower())\n",
    "    .assign(checkout=lambda d: d.action == 'actions/checkout')\n",
    "    .assign(setup=lambda d: d.action.str.startswith('actions/setup-'))\n",
    "    .assign(other=lambda d: d.action.str.startswith('actions/'))\n",
    "    .merge(\n",
    "        df_repo[['repository', 'date', 'workflow']],\n",
    "        how='left',\n",
    "        on='workflow',\n",
    "    )\n",
    "    .groupby(pd.Grouper(key='date', freq='M'))\n",
    "    .agg(\n",
    "        checkout=('checkout', 'sum'),\n",
    "        setup=('setup', 'sum'),\n",
    "        other=('other', 'sum'),\n",
    "        steps=('uses', 'count'),\n",
    "    )\n",
    "    .assign(other=lambda d: d.other - d.setup - d.checkout)\n",
    "    .assign(remaining=lambda d: d.steps - d.other - d.setup - d.checkout)\n",
    "    .apply(lambda s: s / s.steps, axis=1)\n",
    ")\n",
    "\n",
    "(\n",
    "    temp\n",
    "    [['checkout', 'setup', 'other']]\n",
    "    .rename(columns={'checkout': 'actions/checkout', 'setup': 'actions/setup-*', 'other': 'other actions/*'})\n",
    "    .plot(ax=ax, kind='area', style=' ', stacked=True, color=PALETTE)\n",
    ")\n",
    "\n",
    "ax.set(\n",
    "    xlabel=None,\n",
    "    xlim=DATE_RANGE,\n",
    "    ylabel='proportion of steps',\n",
    "    ylim=(0, 1),\n",
    ")\n",
    "\n",
    "savefig(fig, 'overview_prop_steps_github')"
   ]
  },
  {
   "cell_type": "code",
   "execution_count": 16,
   "id": "62717ee6-25c8-474f-b963-a1b3b631b65e",
   "metadata": {},
   "outputs": [
    {
     "data": {
      "text/html": [
       "<div>\n",
       "<style scoped>\n",
       "    .dataframe tbody tr th:only-of-type {\n",
       "        vertical-align: middle;\n",
       "    }\n",
       "\n",
       "    .dataframe tbody tr th {\n",
       "        vertical-align: top;\n",
       "    }\n",
       "\n",
       "    .dataframe thead th {\n",
       "        text-align: right;\n",
       "    }\n",
       "</style>\n",
       "<table border=\"1\" class=\"dataframe\">\n",
       "  <thead>\n",
       "    <tr style=\"text-align: right;\">\n",
       "      <th></th>\n",
       "      <th>count</th>\n",
       "      <th>mean</th>\n",
       "      <th>std</th>\n",
       "      <th>min</th>\n",
       "      <th>25%</th>\n",
       "      <th>50%</th>\n",
       "      <th>75%</th>\n",
       "      <th>max</th>\n",
       "    </tr>\n",
       "  </thead>\n",
       "  <tbody>\n",
       "    <tr>\n",
       "      <th>checkout</th>\n",
       "      <td>35.0</td>\n",
       "      <td>0.389971</td>\n",
       "      <td>0.032336</td>\n",
       "      <td>0.360206</td>\n",
       "      <td>0.366499</td>\n",
       "      <td>0.379746</td>\n",
       "      <td>0.399601</td>\n",
       "      <td>0.493760</td>\n",
       "    </tr>\n",
       "    <tr>\n",
       "      <th>setup</th>\n",
       "      <td>35.0</td>\n",
       "      <td>0.188590</td>\n",
       "      <td>0.028088</td>\n",
       "      <td>0.166211</td>\n",
       "      <td>0.170072</td>\n",
       "      <td>0.177192</td>\n",
       "      <td>0.198012</td>\n",
       "      <td>0.279396</td>\n",
       "    </tr>\n",
       "    <tr>\n",
       "      <th>other</th>\n",
       "      <td>35.0</td>\n",
       "      <td>0.170471</td>\n",
       "      <td>0.026462</td>\n",
       "      <td>0.054303</td>\n",
       "      <td>0.171415</td>\n",
       "      <td>0.176556</td>\n",
       "      <td>0.185334</td>\n",
       "      <td>0.186842</td>\n",
       "    </tr>\n",
       "    <tr>\n",
       "      <th>steps</th>\n",
       "      <td>35.0</td>\n",
       "      <td>1.000000</td>\n",
       "      <td>0.000000</td>\n",
       "      <td>1.000000</td>\n",
       "      <td>1.000000</td>\n",
       "      <td>1.000000</td>\n",
       "      <td>1.000000</td>\n",
       "      <td>1.000000</td>\n",
       "    </tr>\n",
       "    <tr>\n",
       "      <th>remaining</th>\n",
       "      <td>35.0</td>\n",
       "      <td>0.250967</td>\n",
       "      <td>0.041003</td>\n",
       "      <td>0.163699</td>\n",
       "      <td>0.221244</td>\n",
       "      <td>0.256640</td>\n",
       "      <td>0.286569</td>\n",
       "      <td>0.302667</td>\n",
       "    </tr>\n",
       "  </tbody>\n",
       "</table>\n",
       "</div>"
      ],
      "text/plain": [
       "           count      mean       std       min       25%       50%       75%  \\\n",
       "checkout    35.0  0.389971  0.032336  0.360206  0.366499  0.379746  0.399601   \n",
       "setup       35.0  0.188590  0.028088  0.166211  0.170072  0.177192  0.198012   \n",
       "other       35.0  0.170471  0.026462  0.054303  0.171415  0.176556  0.185334   \n",
       "steps       35.0  1.000000  0.000000  1.000000  1.000000  1.000000  1.000000   \n",
       "remaining   35.0  0.250967  0.041003  0.163699  0.221244  0.256640  0.286569   \n",
       "\n",
       "                max  \n",
       "checkout   0.493760  \n",
       "setup      0.279396  \n",
       "other      0.186842  \n",
       "steps      1.000000  \n",
       "remaining  0.302667  "
      ]
     },
     "metadata": {},
     "output_type": "display_data"
    },
    {
     "data": {
      "text/plain": [
       "checkout     0.360206\n",
       "setup        0.166211\n",
       "other        0.170916\n",
       "steps        1.000000\n",
       "remaining    0.302667\n",
       "Name: 2022-09-30 00:00:00, dtype: float64"
      ]
     },
     "metadata": {},
     "output_type": "display_data"
    }
   ],
   "source": [
    "display(temp.describe().T)\n",
    "display(temp.iloc[-1])"
   ]
  },
  {
   "cell_type": "markdown",
   "id": "a23afee5-8c4e-40d7-8a24-51d149368f31",
   "metadata": {},
   "source": [
    "## Distribution of the number of Actions used in a repository"
   ]
  },
  {
   "cell_type": "code",
   "execution_count": 17,
   "id": "8941f27a-2410-4e63-9dbf-4936b27d4f85",
   "metadata": {},
   "outputs": [
    {
     "data": {
      "image/png": "[encoded data removed]",
      "text/plain": [
       "<Figure size 504x216 with 1 Axes>"
      ]
     },
     "metadata": {
      "needs_background": "light"
     },
     "output_type": "display_data"
    }
   ],
   "source": [
    "fig, ax = matplotlib.pyplot.subplots()\n",
    "\n",
    "temp = (\n",
    "    df_steps\n",
    "    [['workflow', 'uses']]\n",
    "    [lambda d: ~d.uses.isnull()]\n",
    "    [lambda d: ~d.uses.str.startswith(('docker://', './', 'http'))]\n",
    "    [lambda d: d.uses.str.count('/') == 1]\n",
    "    .assign(action=lambda d: d.uses.str.split('@', n=1).str[0].str.lower())\n",
    "    .groupby('workflow', as_index=False, sort=False)\n",
    "    .agg(actions=('action', 'nunique'))\n",
    "    .merge(\n",
    "        df_repo[['repository', 'date', 'workflow']],\n",
    "        how='left',\n",
    "        on='workflow',\n",
    "    )\n",
    "    .groupby(['date', 'repository'], as_index=False, sort=False)\n",
    "    .agg(actions=('actions', 'sum'))\n",
    "    .groupby(pd.Grouper(key='date', freq='M'))\n",
    "    .agg(\n",
    "        mean=('actions', 'mean'),\n",
    "        median=('actions', 'median'),\n",
    "        p25=('actions', lambda s: s.quantile(0.25)),\n",
    "        p75=('actions', lambda s: s.quantile(0.75)),\n",
    "    )\n",
    ")\n",
    "\n",
    "temp[['median', 'mean']].plot(ax=ax, style={'mean': '--'})\n",
    "ax.fill_between(temp.index, temp.p25, temp.p75, color=PALETTE[0], alpha=0.15)\n",
    "ax.legend(loc='upper left')\n",
    "\n",
    "ax.set(\n",
    "    xlabel=None,\n",
    "    xlim=DATE_RANGE,\n",
    "    ylabel='number of distinct\\nActions per repository',\n",
    "    ylim=(0, 10),\n",
    ")\n",
    "\n",
    "savefig(fig, 'overview_distr_nb_actions_per_repo')"
   ]
  },
  {
   "cell_type": "code",
   "execution_count": 18,
   "id": "b1b61362-eaab-471c-9607-a44679792edf",
   "metadata": {},
   "outputs": [
    {
     "data": {
      "text/html": [
       "<div>\n",
       "<style scoped>\n",
       "    .dataframe tbody tr th:only-of-type {\n",
       "        vertical-align: middle;\n",
       "    }\n",
       "\n",
       "    .dataframe tbody tr th {\n",
       "        vertical-align: top;\n",
       "    }\n",
       "\n",
       "    .dataframe thead th {\n",
       "        text-align: right;\n",
       "    }\n",
       "</style>\n",
       "<table border=\"1\" class=\"dataframe\">\n",
       "  <thead>\n",
       "    <tr style=\"text-align: right;\">\n",
       "      <th></th>\n",
       "      <th>count</th>\n",
       "      <th>mean</th>\n",
       "      <th>std</th>\n",
       "      <th>min</th>\n",
       "      <th>25%</th>\n",
       "      <th>50%</th>\n",
       "      <th>75%</th>\n",
       "      <th>max</th>\n",
       "    </tr>\n",
       "  </thead>\n",
       "  <tbody>\n",
       "    <tr>\n",
       "      <th>mean</th>\n",
       "      <td>35.0</td>\n",
       "      <td>4.889171</td>\n",
       "      <td>1.010968</td>\n",
       "      <td>2.751422</td>\n",
       "      <td>4.171721</td>\n",
       "      <td>5.112408</td>\n",
       "      <td>5.728004</td>\n",
       "      <td>6.185605</td>\n",
       "    </tr>\n",
       "    <tr>\n",
       "      <th>median</th>\n",
       "      <td>35.0</td>\n",
       "      <td>3.228571</td>\n",
       "      <td>0.731063</td>\n",
       "      <td>2.000000</td>\n",
       "      <td>3.000000</td>\n",
       "      <td>3.000000</td>\n",
       "      <td>4.000000</td>\n",
       "      <td>4.000000</td>\n",
       "    </tr>\n",
       "    <tr>\n",
       "      <th>p25</th>\n",
       "      <td>35.0</td>\n",
       "      <td>2.000000</td>\n",
       "      <td>0.000000</td>\n",
       "      <td>2.000000</td>\n",
       "      <td>2.000000</td>\n",
       "      <td>2.000000</td>\n",
       "      <td>2.000000</td>\n",
       "      <td>2.000000</td>\n",
       "    </tr>\n",
       "    <tr>\n",
       "      <th>p75</th>\n",
       "      <td>35.0</td>\n",
       "      <td>5.800000</td>\n",
       "      <td>1.231928</td>\n",
       "      <td>3.000000</td>\n",
       "      <td>5.000000</td>\n",
       "      <td>6.000000</td>\n",
       "      <td>7.000000</td>\n",
       "      <td>7.000000</td>\n",
       "    </tr>\n",
       "  </tbody>\n",
       "</table>\n",
       "</div>"
      ],
      "text/plain": [
       "        count      mean       std       min       25%       50%       75%  \\\n",
       "mean     35.0  4.889171  1.010968  2.751422  4.171721  5.112408  5.728004   \n",
       "median   35.0  3.228571  0.731063  2.000000  3.000000  3.000000  4.000000   \n",
       "p25      35.0  2.000000  0.000000  2.000000  2.000000  2.000000  2.000000   \n",
       "p75      35.0  5.800000  1.231928  3.000000  5.000000  6.000000  7.000000   \n",
       "\n",
       "             max  \n",
       "mean    6.185605  \n",
       "median  4.000000  \n",
       "p25     2.000000  \n",
       "p75     7.000000  "
      ]
     },
     "metadata": {},
     "output_type": "display_data"
    },
    {
     "data": {
      "text/plain": [
       "mean      6.185605\n",
       "median    4.000000\n",
       "p25       2.000000\n",
       "p75       7.000000\n",
       "Name: 2022-09-30 00:00:00, dtype: float64"
      ]
     },
     "metadata": {},
     "output_type": "display_data"
    }
   ],
   "source": [
    "display(temp.describe().T)\n",
    "display(temp.iloc[-1])"
   ]
  }
 ],
 "metadata": {
  "kernelspec": {
   "display_name": "Python 3 (ipykernel)",
   "language": "python",
   "name": "python3"
  },
  "language_info": {
   "codemirror_mode": {
    "name": "ipython",
    "version": 3
   },
   "file_extension": ".py",
   "mimetype": "text/x-python",
   "name": "python",
   "nbconvert_exporter": "python",
   "pygments_lexer": "ipython3",
   "version": "3.9.2"
  }
 },
 "nbformat": 4,
 "nbformat_minor": 5
}
