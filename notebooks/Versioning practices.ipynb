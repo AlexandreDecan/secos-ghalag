{
 "cells": [
  {
   "cell_type": "code",
   "execution_count": 1,
   "id": "6c1b5289-e357-460f-a199-0bcbb3fcfd4c",
   "metadata": {},
   "outputs": [],
   "source": [
    "import pandas as pd\n",
    "import numpy as np\n",
    "import matplotlib\n",
    "import matplotlib.pyplot\n",
    "import seaborn"
   ]
  },
  {
   "cell_type": "code",
   "execution_count": 2,
   "id": "aaf05dcd-8efd-4cdc-88f7-23288ef845b4",
   "metadata": {},
   "outputs": [],
   "source": [
    "FIG_SIZE = (7, 3)\n",
    "\n",
    "PALETTE = seaborn.color_palette()\n",
    "DATE_RANGE = pd.to_datetime('2019-11-01'), pd.to_datetime('2022-09-30')\n",
    "REL_CENSOR = pd.to_datetime('2018-10-16')  # Limited public beta of GHA\n",
    "\n",
    "matplotlib.rcParams['figure.figsize'] = FIG_SIZE\n",
    "# matplotlib.rcParams['legend.framealpha'] = 1\n",
    "matplotlib.rcParams['text.latex.preamble'] = r'\\usepackage{amsmath}'\n",
    "\n",
    "SEED = 12345\n",
    "SAVEFIG = True\n",
    "\n",
    "def _savefig(fig, name):\n",
    "    import os\n",
    "    fig.savefig(\n",
    "        os.path.join('..', 'figures', '{}.pdf'.format(name)),\n",
    "        bbox_inches='tight'\n",
    "    )\n",
    "    \n",
    "savefig = _savefig if SAVEFIG else lambda x, y: None"
   ]
  },
  {
   "cell_type": "code",
   "execution_count": 3,
   "id": "b4c52a7d-1168-4b3b-bbb1-de2add3436d0",
   "metadata": {},
   "outputs": [],
   "source": [
    "RE_SEMVER = r'^(?:(?:v|V)\\.?)?(?P<major>\\d{1,7})(?:\\.(?P<minor>\\d+)(?:\\.(?P<patch>\\d+))?)?(?P<misc>.*)$'\n",
    "RE_DATE = r'^\\d{8}(?:[0-9:]*)$' \n",
    "RE_SHA = r'^[a-zA-Z0-9]{8}(?:[a-zA-Z0-9]{32})?$'"
   ]
  },
  {
   "cell_type": "markdown",
   "id": "6708de72-d1e7-4ace-87cf-1ec75be9e0ca",
   "metadata": {},
   "source": [
    "## Load data"
   ]
  },
  {
   "cell_type": "code",
   "execution_count": 4,
   "id": "4c73740d-2208-4c68-ba30-7d8962a10aa5",
   "metadata": {},
   "outputs": [],
   "source": [
    "df_releases = (\n",
    "    pd.read_csv('../data/releases.csv.gz')\n",
    "    .assign(date=lambda d: pd.to_datetime(d.date, errors='coerce').dt.tz_convert(None))\n",
    "    [lambda d: d.date.between(REL_CENSOR, pd.to_datetime('2022-08-31'), inclusive='both')]\n",
    "    # Detect versioning scheme\n",
    "    .assign(components=lambda d: d.release.str.match(RE_SEMVER))\n",
    "    .assign(datebased=lambda d: d.release.str.match(RE_DATE))\n",
    "    .assign(sha=lambda d: d.release.str.match(RE_SHA))\n",
    "    .assign(other=True)\n",
    "    .assign(versioning=lambda d: d[['datebased', 'sha', 'components', 'other']].idxmax(axis=1))\n",
    "    # Detect number of components for semver\n",
    "    .assign(versioning=lambda d: np.where(d.versioning == 'components', (d.release.str.count('\\d+\\.') + 1).fillna(0).astype(int).astype(str) + ' components', d.versioning))\n",
    "    .replace({'versioning': {'1 components': '1 component', 'datebased': 'date', '4 components': '4+ components', '5 components': '4+ components'}})\n",
    "    .drop(columns=['components', 'datebased', 'sha', 'other'])\n",
    ")"
   ]
  },
  {
   "cell_type": "code",
   "execution_count": 5,
   "id": "9c5522c0-f5a5-47aa-b9a5-f95478ab73af",
   "metadata": {},
   "outputs": [],
   "source": [
    "df_snapshots = (\n",
    "    pd.read_csv('../data/workflow_files.csv.gz', parse_dates=['date'])\n",
    "    [['repository', 'date', 'filename', 'workflow']]\n",
    ")"
   ]
  },
  {
   "cell_type": "code",
   "execution_count": 6,
   "id": "ef17dcc7-f56c-4c74-802f-ad1d7da4ed8c",
   "metadata": {},
   "outputs": [],
   "source": [
    "df_steps = (\n",
    "    pd.read_csv('../data/steps.csv.gz')\n",
    "    [['workflow', 'uses']]\n",
    "    [lambda d: ~d.uses.isnull()]\n",
    "    [lambda d: ~d.uses.str.startswith(('docker://', './', 'http'))]\n",
    "    [lambda d: d.uses.str.count('/') == 1]\n",
    "    .assign(anchor=lambda d: d.uses.str.split('@', n=1).str[1])\n",
    "    # Detect versioning scheme\n",
    "    .assign(components=lambda d: d.anchor.str.match(RE_SEMVER))\n",
    "    .assign(date=lambda d: d.anchor.str.match(RE_DATE))\n",
    "    .assign(sha=lambda d: d.anchor.str.match(RE_SHA))\n",
    "    .assign(other=True)\n",
    "    .fillna({'components': False, 'date': False, 'sha': False})\n",
    "    .assign(versioning=lambda d: d[['date', 'sha', 'components', 'other']].idxmax(axis=1))\n",
    "    # Detect number of components for semver\n",
    "    .assign(versioning=lambda d: np.where(d.versioning == 'components', (d.anchor.str.count('\\d+\\.').fillna(0) + 1).astype(int).astype(str) + ' components', d.versioning))\n",
    "    .replace({'versioning': {'1 components': '1 component', '4 components': '4+ components', '5 components': '4+ components'}})\n",
    ")"
   ]
  },
  {
   "cell_type": "markdown",
   "id": "ef15245c-bff8-4144-bb70-d6f8ded82b55",
   "metadata": {},
   "source": [
    "How many steps are relying on an Action for which we have releases?"
   ]
  },
  {
   "cell_type": "code",
   "execution_count": 7,
   "id": "feef0313-3546-4e2d-b9eb-d70b86b1287d",
   "metadata": {},
   "outputs": [
    {
     "data": {
      "text/plain": [
       "3694362"
      ]
     },
     "execution_count": 7,
     "metadata": {},
     "output_type": "execute_result"
    }
   ],
   "source": [
    "len(\n",
    "    df_steps\n",
    "    .assign(action=lambda d: d.uses.str.split('@', n=1).str[0])\n",
    "    [['workflow', 'action']]\n",
    "    [lambda d: d.action.isin(\n",
    "        df_releases.assign(action=lambda d: d.owner + '/' + d.repo)['action']\n",
    "    )]\n",
    "    .merge(\n",
    "        df_snapshots[['workflow']],\n",
    "        how='right',\n",
    "    )\n",
    ")"
   ]
  },
  {
   "cell_type": "markdown",
   "id": "59e71259-0d45-4974-ac98-da322293fe00",
   "metadata": {},
   "source": [
    "## Versioning practices for Actions"
   ]
  },
  {
   "cell_type": "markdown",
   "id": "8fe4ef09-c508-4d99-b77d-1b2744555304",
   "metadata": {},
   "source": [
    "### Monthly proportion of releases for each versioning practice"
   ]
  },
  {
   "cell_type": "code",
   "execution_count": 8,
   "id": "4d154b99-4d81-4989-bdd4-532bc226827d",
   "metadata": {},
   "outputs": [
    {
     "data": {
      "image/png": "[encoded data removed]",
      "text/plain": [
       "<Figure size 504x216 with 1 Axes>"
      ]
     },
     "metadata": {
      "needs_background": "light"
     },
     "output_type": "display_data"
    }
   ],
   "source": [
    "fig, ax = matplotlib.pyplot.subplots()\n",
    "\n",
    "temp = (\n",
    "    df_releases\n",
    "    .groupby([pd.Grouper(key='date', freq='M'), 'versioning'])\n",
    "    .agg(releases=('release', 'count'))\n",
    "    .unstack()['releases']\n",
    "    .fillna(0).astype(int)\n",
    "    .groupby(pd.Grouper(level=0, freq='M'))\n",
    "    .first()\n",
    "    .apply(lambda s: s / s.sum(), axis=1)\n",
    "    .loc[DATE_RANGE[0]:DATE_RANGE[1]]\n",
    ")\n",
    "\n",
    "temp.plot(ax=ax, color=PALETTE, )\n",
    "ax.legend(title=None)\n",
    "\n",
    "ax.set(\n",
    "    xlabel=None,\n",
    "    xlim=DATE_RANGE,\n",
    "    ylabel='proportion of releases',\n",
    "    ylim=(0, 1),\n",
    ")\n",
    "\n",
    "savefig(fig, 'version_monthly_releases')"
   ]
  },
  {
   "cell_type": "code",
   "execution_count": 9,
   "id": "73a7cda6-9452-440e-83e2-681a5756a860",
   "metadata": {},
   "outputs": [
    {
     "data": {
      "text/html": [
       "<div>\n",
       "<style scoped>\n",
       "    .dataframe tbody tr th:only-of-type {\n",
       "        vertical-align: middle;\n",
       "    }\n",
       "\n",
       "    .dataframe tbody tr th {\n",
       "        vertical-align: top;\n",
       "    }\n",
       "\n",
       "    .dataframe thead th {\n",
       "        text-align: right;\n",
       "    }\n",
       "</style>\n",
       "<table border=\"1\" class=\"dataframe\">\n",
       "  <thead>\n",
       "    <tr style=\"text-align: right;\">\n",
       "      <th></th>\n",
       "      <th>count</th>\n",
       "      <th>mean</th>\n",
       "      <th>std</th>\n",
       "      <th>min</th>\n",
       "      <th>25%</th>\n",
       "      <th>50%</th>\n",
       "      <th>75%</th>\n",
       "      <th>max</th>\n",
       "    </tr>\n",
       "    <tr>\n",
       "      <th>versioning</th>\n",
       "      <th></th>\n",
       "      <th></th>\n",
       "      <th></th>\n",
       "      <th></th>\n",
       "      <th></th>\n",
       "      <th></th>\n",
       "      <th></th>\n",
       "      <th></th>\n",
       "    </tr>\n",
       "  </thead>\n",
       "  <tbody>\n",
       "    <tr>\n",
       "      <th>1 component</th>\n",
       "      <td>34.0</td>\n",
       "      <td>0.046223</td>\n",
       "      <td>0.014739</td>\n",
       "      <td>0.028497</td>\n",
       "      <td>0.031704</td>\n",
       "      <td>0.046454</td>\n",
       "      <td>0.054265</td>\n",
       "      <td>0.087479</td>\n",
       "    </tr>\n",
       "    <tr>\n",
       "      <th>2 components</th>\n",
       "      <td>34.0</td>\n",
       "      <td>0.074036</td>\n",
       "      <td>0.020989</td>\n",
       "      <td>0.034794</td>\n",
       "      <td>0.057414</td>\n",
       "      <td>0.073658</td>\n",
       "      <td>0.087683</td>\n",
       "      <td>0.121739</td>\n",
       "    </tr>\n",
       "    <tr>\n",
       "      <th>3 components</th>\n",
       "      <td>34.0</td>\n",
       "      <td>0.861353</td>\n",
       "      <td>0.066757</td>\n",
       "      <td>0.523913</td>\n",
       "      <td>0.844307</td>\n",
       "      <td>0.870848</td>\n",
       "      <td>0.896342</td>\n",
       "      <td>0.918814</td>\n",
       "    </tr>\n",
       "    <tr>\n",
       "      <th>4+ components</th>\n",
       "      <td>34.0</td>\n",
       "      <td>0.001399</td>\n",
       "      <td>0.001685</td>\n",
       "      <td>0.000000</td>\n",
       "      <td>0.000000</td>\n",
       "      <td>0.001106</td>\n",
       "      <td>0.002447</td>\n",
       "      <td>0.005435</td>\n",
       "    </tr>\n",
       "    <tr>\n",
       "      <th>date</th>\n",
       "      <td>34.0</td>\n",
       "      <td>0.009547</td>\n",
       "      <td>0.050620</td>\n",
       "      <td>0.000000</td>\n",
       "      <td>0.000000</td>\n",
       "      <td>0.000000</td>\n",
       "      <td>0.000708</td>\n",
       "      <td>0.295652</td>\n",
       "    </tr>\n",
       "    <tr>\n",
       "      <th>other</th>\n",
       "      <td>34.0</td>\n",
       "      <td>0.007400</td>\n",
       "      <td>0.006776</td>\n",
       "      <td>0.000000</td>\n",
       "      <td>0.002841</td>\n",
       "      <td>0.004426</td>\n",
       "      <td>0.010802</td>\n",
       "      <td>0.026746</td>\n",
       "    </tr>\n",
       "    <tr>\n",
       "      <th>sha</th>\n",
       "      <td>34.0</td>\n",
       "      <td>0.000041</td>\n",
       "      <td>0.000240</td>\n",
       "      <td>0.000000</td>\n",
       "      <td>0.000000</td>\n",
       "      <td>0.000000</td>\n",
       "      <td>0.000000</td>\n",
       "      <td>0.001399</td>\n",
       "    </tr>\n",
       "  </tbody>\n",
       "</table>\n",
       "</div>"
      ],
      "text/plain": [
       "               count      mean       std       min       25%       50%  \\\n",
       "versioning                                                               \n",
       "1 component     34.0  0.046223  0.014739  0.028497  0.031704  0.046454   \n",
       "2 components    34.0  0.074036  0.020989  0.034794  0.057414  0.073658   \n",
       "3 components    34.0  0.861353  0.066757  0.523913  0.844307  0.870848   \n",
       "4+ components   34.0  0.001399  0.001685  0.000000  0.000000  0.001106   \n",
       "date            34.0  0.009547  0.050620  0.000000  0.000000  0.000000   \n",
       "other           34.0  0.007400  0.006776  0.000000  0.002841  0.004426   \n",
       "sha             34.0  0.000041  0.000240  0.000000  0.000000  0.000000   \n",
       "\n",
       "                    75%       max  \n",
       "versioning                         \n",
       "1 component    0.054265  0.087479  \n",
       "2 components   0.087683  0.121739  \n",
       "3 components   0.896342  0.918814  \n",
       "4+ components  0.002447  0.005435  \n",
       "date           0.000708  0.295652  \n",
       "other          0.010802  0.026746  \n",
       "sha            0.000000  0.001399  "
      ]
     },
     "metadata": {},
     "output_type": "display_data"
    },
    {
     "data": {
      "text/plain": [
       "versioning\n",
       "1 component      0.041237\n",
       "2 components     0.034794\n",
       "3 components     0.918814\n",
       "4+ components    0.002577\n",
       "date             0.000000\n",
       "other            0.002577\n",
       "sha              0.000000\n",
       "Name: 2022-08-31 00:00:00, dtype: float64"
      ]
     },
     "metadata": {},
     "output_type": "display_data"
    }
   ],
   "source": [
    "display(temp.describe().T)\n",
    "display(temp.iloc[-1])"
   ]
  },
  {
   "cell_type": "markdown",
   "id": "48cd729b-ddfd-43a0-b645-6bab0ae50d4c",
   "metadata": {},
   "source": [
    "### Monthly proportion of Actions for each versioning practice"
   ]
  },
  {
   "cell_type": "code",
   "execution_count": 10,
   "id": "1ca53cf5-6d5d-4fe0-b594-78bc4b343589",
   "metadata": {},
   "outputs": [
    {
     "data": {
      "image/png": "[encoded data removed]",
      "text/plain": [
       "<Figure size 504x216 with 1 Axes>"
      ]
     },
     "metadata": {
      "needs_background": "light"
     },
     "output_type": "display_data"
    }
   ],
   "source": [
    "fig, ax = matplotlib.pyplot.subplots()\n",
    "\n",
    "temp = (\n",
    "    df_releases\n",
    "    .assign(action=lambda d: d.owner + '/' + d.repo)\n",
    "    .sort_values(['date', 'action'])\n",
    "    .drop_duplicates(['date', 'action'], keep='last')\n",
    "    # Fill the \"gaps\"\n",
    "    .set_index('date')\n",
    "    .groupby('action', as_index=False)\n",
    "    .resample('M')\n",
    "    .ffill()\n",
    "    .reset_index()\n",
    "    .groupby([pd.Grouper(key='date', freq='M'), 'versioning'])\n",
    "    .agg(actions=('action', 'count'))  # No duplicate so \"count\" == \"nunique\"\n",
    "    .unstack()['actions']\n",
    "    .fillna(0)\n",
    "    .apply(lambda s: s / s.sum(), axis=1)\n",
    "    .loc[DATE_RANGE[0]:DATE_RANGE[1]]\n",
    ")\n",
    "\n",
    "temp.plot(ax=ax)\n",
    "ax.legend(title=None, ncol=2)\n",
    "\n",
    "ax.set(\n",
    "    xlabel=None,\n",
    "    xlim=DATE_RANGE,\n",
    "    ylabel='proportion of Actions',\n",
    "    ylim=(0, 1)\n",
    ")\n",
    "\n",
    "savefig(fig, 'version_monthly_actions')"
   ]
  },
  {
   "cell_type": "code",
   "execution_count": 11,
   "id": "4b53528e-f5c1-4230-ad58-8693acb122c7",
   "metadata": {},
   "outputs": [
    {
     "name": "stdout",
     "output_type": "stream",
     "text": [
      "               count      mean       std       min       25%       50%       75%       max\n",
      "versioning                                                                                \n",
      "1 component     34.0  0.082564  0.017756  0.054721  0.069121  0.082328  0.097571  0.107595\n",
      "2 components    34.0  0.107536  0.019509  0.039886  0.098846  0.112861  0.119661  0.131646\n",
      "3 components    34.0  0.802084  0.033712  0.754430  0.778677  0.792381  0.822578  0.897436\n",
      "4+ components   34.0  0.001598  0.001338  0.000000  0.000832  0.000993  0.001978  0.005376\n",
      "date            34.0  0.000835  0.000390  0.000000  0.000826  0.000888  0.000998  0.001555\n",
      "other           34.0  0.005135  0.002543  0.000993  0.002821  0.005076  0.007126  0.009930\n",
      "sha             34.0  0.000247  0.000419  0.000000  0.000000  0.000000  0.000638  0.001033\n"
     ]
    },
    {
     "data": {
      "text/plain": [
       "versioning\n",
       "1 component      0.059829\n",
       "2 components     0.039886\n",
       "3 components     0.897436\n",
       "4+ components    0.000000\n",
       "date             0.000000\n",
       "other            0.002849\n",
       "sha              0.000000\n",
       "Name: 2022-08-31 00:00:00, dtype: float64"
      ]
     },
     "metadata": {},
     "output_type": "display_data"
    }
   ],
   "source": [
    "print(temp.describe().T.to_string())\n",
    "display(temp.iloc[-1])"
   ]
  },
  {
   "cell_type": "markdown",
   "id": "70fdb8dd-b36a-4b17-8c99-1baaf4c0d7c6",
   "metadata": {},
   "source": [
    "## Versioning practices in workflows"
   ]
  },
  {
   "cell_type": "markdown",
   "id": "7cccbe0b-0539-4ebd-b99d-4680de7edd31",
   "metadata": {},
   "source": [
    "### Monthly proportion of steps for each versioning practice"
   ]
  },
  {
   "cell_type": "code",
   "execution_count": 12,
   "id": "e8543cd3-1c20-4674-92db-d175dec2d50e",
   "metadata": {},
   "outputs": [
    {
     "data": {
      "image/png": "[encoded data removed]",
      "text/plain": [
       "<Figure size 504x216 with 1 Axes>"
      ]
     },
     "metadata": {
      "needs_background": "light"
     },
     "output_type": "display_data"
    }
   ],
   "source": [
    "fig, ax = matplotlib.pyplot.subplots()\n",
    "\n",
    "temp = (\n",
    "    df_steps[['workflow', 'versioning']]\n",
    "    .merge(\n",
    "        df_snapshots,\n",
    "        how='inner',\n",
    "        on='workflow',\n",
    "    )\n",
    "    .groupby([pd.Grouper(key='date', freq='M'), 'versioning'])\n",
    "    .agg(steps=('workflow', 'count'))  # We do not count workflows but steps\n",
    "    .unstack()['steps']\n",
    "    .fillna(0).astype(int)\n",
    "    .groupby(pd.Grouper(level=0, freq='M'))\n",
    "    .first()\n",
    "    .apply(lambda s: s / s.sum(), axis=1)\n",
    ")\n",
    "\n",
    "temp.plot(ax=ax, color=PALETTE, )\n",
    "ax.legend(title=None)\n",
    "\n",
    "ax.set(\n",
    "    xlabel=None,\n",
    "    xlim=DATE_RANGE,\n",
    "    ylabel='proportion of steps',\n",
    "    ylim=(0, 1),\n",
    ")\n",
    "\n",
    "savefig(fig, 'version_monthly_steps')"
   ]
  },
  {
   "cell_type": "code",
   "execution_count": 13,
   "id": "22f0b429-7673-41dc-8370-8364b6575614",
   "metadata": {},
   "outputs": [
    {
     "name": "stdout",
     "output_type": "stream",
     "text": [
      "               count      mean       std       min       25%       50%       75%       max\n",
      "versioning                                                                                \n",
      "1 component     35.0  0.837827  0.023689  0.756514  0.840865  0.842539  0.853407  0.859958\n",
      "2 components    35.0  0.010058  0.002433  0.003503  0.009059  0.010939  0.012053  0.012631\n",
      "3 components    35.0  0.068454  0.011760  0.036348  0.062721  0.067212  0.081234  0.084233\n",
      "4+ components   35.0  0.000018  0.000018  0.000000  0.000005  0.000011  0.000032  0.000057\n",
      "other           35.0  0.075967  0.038019  0.047141  0.052364  0.058434  0.083854  0.201883\n",
      "sha             35.0  0.007676  0.006229  0.001594  0.002995  0.005215  0.010774  0.025513\n"
     ]
    },
    {
     "data": {
      "text/plain": [
       "versioning\n",
       "1 component      0.849535\n",
       "2 components     0.010939\n",
       "3 components     0.066867\n",
       "4+ components    0.000005\n",
       "other            0.047141\n",
       "sha              0.025513\n",
       "Name: 2022-09-30 00:00:00, dtype: float64"
      ]
     },
     "metadata": {},
     "output_type": "display_data"
    }
   ],
   "source": [
    "print(temp.describe().T.to_string())\n",
    "display(temp.iloc[-1])"
   ]
  }
 ],
 "metadata": {
  "kernelspec": {
   "display_name": "Python 3 (ipykernel)",
   "language": "python",
   "name": "python3"
  },
  "language_info": {
   "codemirror_mode": {
    "name": "ipython",
    "version": 3
   },
   "file_extension": ".py",
   "mimetype": "text/x-python",
   "name": "python",
   "nbconvert_exporter": "python",
   "pygments_lexer": "ipython3",
   "version": "3.9.2"
  }
 },
 "nbformat": 4,
 "nbformat_minor": 5
}
