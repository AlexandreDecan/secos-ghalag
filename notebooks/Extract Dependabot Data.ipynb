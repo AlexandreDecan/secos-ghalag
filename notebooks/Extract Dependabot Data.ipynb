{
 "cells": [
  {
   "cell_type": "markdown",
   "id": "d3fe1cb4-035f-4c40-a6ef-81e9d384a3a7",
   "metadata": {},
   "source": [
    "This notebook iterates on the repositories we locally cloned, and detect whether Dependabot is configured, and whether it is configured for Actions. "
   ]
  },
  {
   "cell_type": "code",
   "execution_count": 1,
   "id": "3957ab29-74cb-4618-afe4-590e206c7c1d",
   "metadata": {},
   "outputs": [],
   "source": [
    "import pandas as pd\n",
    "import subprocess\n",
    "import datetime\n",
    "import shutil\n",
    "\n",
    "# We use ThreadPoolExecutor since this notebook is io-bounded, and multiprocessing fails\n",
    "# because we call subcommands that override STDOUT (see Python documentation for more info).\n",
    "# from multiprocessing import Pool\n",
    "from concurrent.futures import ThreadPoolExecutor\n",
    "\n",
    "from pathlib import Path\n",
    "from functools import partial\n",
    "\n",
    "from tqdm import tqdm "
   ]
  },
  {
   "cell_type": "code",
   "execution_count": 2,
   "id": "5e0bf477-2896-49bd-b0b4-d1a59516a987",
   "metadata": {},
   "outputs": [],
   "source": [
    "# Path to repositories\n",
    "REPO_DIR = Path('/data/ghactions')"
   ]
  },
  {
   "cell_type": "code",
   "execution_count": 3,
   "id": "6451b1da-f946-4133-a163-4ede60bf3529",
   "metadata": {},
   "outputs": [],
   "source": [
    "df_snapshots = (\n",
    "    pd.read_csv('../data/workflow_files.csv.gz')\n",
    "    [['repository', 'commit', 'date']]\n",
    "    .sort_values('date')\n",
    "    .drop_duplicates(['repository'], keep='last')\n",
    ")"
   ]
  },
  {
   "cell_type": "code",
   "execution_count": 4,
   "id": "5becb936-78b3-46d0-b33e-3627b8965934",
   "metadata": {},
   "outputs": [],
   "source": [
    "def checkout_snapshot(path, commit):\n",
    "    cmd = partial(subprocess.run, cwd=path, capture_output=True, timeout=None)\n",
    "    cmd(['git', 'checkout', '-f', commit, '--no-overlay', '.github'])"
   ]
  },
  {
   "cell_type": "code",
   "execution_count": 5,
   "id": "bbb7d62f-85f2-4c9d-9a9c-c3d7cafe68a2",
   "metadata": {},
   "outputs": [],
   "source": [
    "def get_dependabot_ecosystems(path):\n",
    "    try:\n",
    "        f = open(path / '.github' / 'dependabot.yml')\n",
    "    except FileNotFoundError:\n",
    "        try:\n",
    "            f = open(path / '.github' / 'dependabot.yaml')\n",
    "        except FileNotFoundError:\n",
    "            return None\n",
    "    \n",
    "    ecosystems = []\n",
    "    for line in f.readlines():\n",
    "        if 'package-ecosystem:' in line:\n",
    "            ecosystems.append(line.split('package-ecosystem:', maxsplit=1)[-1].strip())\n",
    "    return ecosystems"
   ]
  },
  {
   "cell_type": "code",
   "execution_count": 6,
   "id": "af9a02ee-cc28-4762-be6a-8dcb28dea81d",
   "metadata": {},
   "outputs": [],
   "source": [
    "def job(repo, commits):\n",
    "    path = REPO_DIR / repo.replace('/', '---')\n",
    "    output = []\n",
    "    \n",
    "    for commit in commits:\n",
    "        checkout_snapshot(path, commit)\n",
    "        ecosystems = get_dependabot_ecosystems(path)\n",
    "        if ecosystems is not None:\n",
    "            for ecosystem in ecosystems:\n",
    "                output.append((repo, commit, ecosystem))\n",
    "    return output"
   ]
  },
  {
   "cell_type": "code",
   "execution_count": 7,
   "id": "61603295-5e62-4309-9262-201edb577ed6",
   "metadata": {},
   "outputs": [],
   "source": [
    "output = []\n",
    "done = []"
   ]
  },
  {
   "cell_type": "code",
   "execution_count": 8,
   "id": "724f592c-2942-4208-8260-0a3135f90c6b",
   "metadata": {},
   "outputs": [
    {
     "name": "stderr",
     "output_type": "stream",
     "text": [
      "100%|████████████████████████████████████| 22758/22758 [01:25<00:00, 266.23it/s]\n"
     ]
    }
   ],
   "source": [
    "inputs = [(x.repository, x.commits) for x in \n",
    "    (\n",
    "        df_snapshots\n",
    "        .groupby('repository', as_index=False)\n",
    "        .agg(commits=('commit', list))\n",
    "    ).itertuples() \n",
    "    if x.repository not in done\n",
    "]\n",
    "\n",
    "with ThreadPoolExecutor() as pool:\n",
    "    jobs = pool.map(job, *zip(*inputs))\n",
    "    \n",
    "    for (repo, commits), job_results in tqdm(zip(inputs, jobs), total=len(inputs)):\n",
    "        for result in job_results:\n",
    "            output.append(result)\n",
    "        done.append(repo)"
   ]
  },
  {
   "cell_type": "code",
   "execution_count": 9,
   "id": "55318cf8-7e0a-49ae-b790-0303a6e95bb0",
   "metadata": {},
   "outputs": [],
   "source": [
    "df = pd.DataFrame(output, columns=['repository', 'commit', 'ecosystem'])"
   ]
  },
  {
   "cell_type": "code",
   "execution_count": 10,
   "id": "73ddcbab-85e9-4bcb-9699-d87bdf192725",
   "metadata": {},
   "outputs": [
    {
     "name": "stdout",
     "output_type": "stream",
     "text": [
      "1129 repositories using Dependabot 0.04960892872835926\n"
     ]
    }
   ],
   "source": [
    "print(df.repository.nunique(), 'repositories using Dependabot', df.repository.nunique() / len(inputs))"
   ]
  },
  {
   "cell_type": "code",
   "execution_count": 11,
   "id": "bf1c53a1-b4ea-4748-ad2c-3e3bdf30b29f",
   "metadata": {},
   "outputs": [
    {
     "name": "stdout",
     "output_type": "stream",
     "text": [
      "698 having configured it for GHA. 0.030670533438790754 0.6182462356067316\n"
     ]
    }
   ],
   "source": [
    "_ = (\n",
    "    df\n",
    "    [lambda d: d.ecosystem.str.contains('github-actions')]\n",
    "    .repository\n",
    "    .unique()\n",
    ")\n",
    "print(len(_), 'having configured it for GHA.', len(_) / len(inputs), len(_) / df.repository.nunique())"
   ]
  }
 ],
 "metadata": {
  "kernelspec": {
   "display_name": "Python 3 (ipykernel)",
   "language": "python",
   "name": "python3"
  },
  "language_info": {
   "codemirror_mode": {
    "name": "ipython",
    "version": 3
   },
   "file_extension": ".py",
   "mimetype": "text/x-python",
   "name": "python",
   "nbconvert_exporter": "python",
   "pygments_lexer": "ipython3",
   "version": "3.9.2"
  }
 },
 "nbformat": 4,
 "nbformat_minor": 5
}
